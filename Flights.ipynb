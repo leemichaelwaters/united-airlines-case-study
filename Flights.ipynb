{
  "cells": [
    {
      "cell_type": "markdown",
      "metadata": {
        "id": "view-in-github",
        "colab_type": "text"
      },
      "source": [
        "<a href=\"https://colab.research.google.com/github/leemichaelwaters/united-airlines-take-home-task/blob/main/Flights.ipynb\" target=\"_parent\"><img src=\"https://colab.research.google.com/assets/colab-badge.svg\" alt=\"Open In Colab\"/></a>"
      ]
    },
    {
      "cell_type": "markdown",
      "metadata": {
        "id": "k2Y3_phSlxDJ"
      },
      "source": [
        "# Instructions"
      ]
    },
    {
      "cell_type": "markdown",
      "metadata": {
        "id": "jMwoFw99lxDQ"
      },
      "source": [
        "## Dataset"
      ]
    },
    {
      "cell_type": "markdown",
      "metadata": {
        "id": "VZwviKXKlxDQ"
      },
      "source": [
        "*2015 Flight Delays and Cancellations Kaggle Dataset*\n",
        "* This collection of data contains three different datasets: `airlines.csv`, `airports.csv`, and `flights.csv`\n",
        "* Metadata information is available about the files on the [kaggle website](https://www.kaggle.com/datasets/usdot/flight-delays)"
      ]
    },
    {
      "cell_type": "markdown",
      "metadata": {
        "execution": {
          "iopub.execute_input": "2022-11-26T22:21:58.572465Z",
          "iopub.status.busy": "2022-11-26T22:21:58.571130Z",
          "iopub.status.idle": "2022-11-26T22:21:58.577127Z",
          "shell.execute_reply": "2022-11-26T22:21:58.575951Z",
          "shell.execute_reply.started": "2022-11-26T22:21:58.572423Z"
        },
        "id": "i8qIDfrnlxDR"
      },
      "source": [
        "## Questions"
      ]
    },
    {
      "cell_type": "markdown",
      "metadata": {
        "id": "gaGP3_z4lxDS"
      },
      "source": [
        "With these datasets, we would like you to investigate the following questions:\n",
        "* ~Which airlines performs the worst? Which the best?~\n",
        "* ~Does airline performance change over the months of the year? In other words, is one airline always the worst performing or is there variability?~\n",
        "* ~Do certain routes commonly end up delayed or canceled across all airlines?~\n",
        "* ~Create a forecast for the count of cancellations on United Airlines flights with destinations in the state of California in the month of December~"
      ]
    },
    {
      "cell_type": "markdown",
      "metadata": {
        "id": "kozQ3rY3lxDS"
      },
      "source": [
        "## Deliverables"
      ]
    },
    {
      "cell_type": "markdown",
      "metadata": {
        "id": "9rFHVfxilxDT"
      },
      "source": [
        "* ~Please prepare a 10-minute presentation summarizing your findings~\n",
        "* ~Be sure to include recommendations on areas where the business could focus its efforts based off your findings~\n",
        "* ~Be prepared to answer a few follow-up questions on your work~"
      ]
    },
    {
      "cell_type": "markdown",
      "metadata": {
        "id": "vrXuSWJUlxDU"
      },
      "source": [
        "## Expectations"
      ]
    },
    {
      "cell_type": "markdown",
      "metadata": {
        "id": "oNeu8xMZlxDU"
      },
      "source": [
        "* ~We are less concerned with right answers and more interested in seeing your process for this exercise~\n",
        "* ~You may use any application(s), tool(s), or programming language(s) to complete your analysis~\n",
        "* ~You are allowed to use external resources to complete this exercise (e.g. looking something up on StackOverflow)~\n",
        "* ~**Please submit all files, including code, visualizations, and slides that you used to answer the questions by 9AM Central the day of your interview. You should email these materials to greg.jackson@united.com.**~"
      ]
    },
    {
      "cell_type": "markdown",
      "metadata": {
        "id": "mmukgYk4lxDV"
      },
      "source": [
        "# Setup\n",
        "\n"
      ]
    },
    {
      "cell_type": "code",
      "execution_count": null,
      "metadata": {
        "tags": [],
        "id": "MXQupx1WlxDW"
      },
      "outputs": [],
      "source": [
        "import pandas as pd\n",
        "import matplotlib.pyplot as plt\n",
        "from statsmodels.tsa.stattools import adfuller\n",
        "from statsmodels.tsa.seasonal import seasonal_decompose\n",
        "from pmdarima.arima import auto_arima\n",
        "from math import sqrt\n",
        "from sklearn.metrics import mean_absolute_error"
      ]
    },
    {
      "cell_type": "markdown",
      "metadata": {
        "id": "hYhajEYNlxDY"
      },
      "source": [
        "# Import data"
      ]
    },
    {
      "cell_type": "code",
      "execution_count": null,
      "metadata": {
        "tags": [],
        "id": "E4EvSxVflxDZ"
      },
      "outputs": [],
      "source": [
        "df = pd.read_csv('datasets/flights/flights.csv', dtype={'ORIGIN_AIRPORT': 'str', 'DESTINATION_AIRPORT': 'str'})  # Fixing DtypeWarning: Columns (7,8) have mixed types"
      ]
    },
    {
      "cell_type": "code",
      "execution_count": null,
      "metadata": {
        "id": "MBH9oh1llxDa",
        "outputId": "5fdc97f0-616f-4f6c-d059-e74c2fad5715"
      },
      "outputs": [
        {
          "data": {
            "text/html": [
              "<div>\n",
              "<style scoped>\n",
              "    .dataframe tbody tr th:only-of-type {\n",
              "        vertical-align: middle;\n",
              "    }\n",
              "\n",
              "    .dataframe tbody tr th {\n",
              "        vertical-align: top;\n",
              "    }\n",
              "\n",
              "    .dataframe thead th {\n",
              "        text-align: right;\n",
              "    }\n",
              "</style>\n",
              "<table border=\"1\" class=\"dataframe\">\n",
              "  <thead>\n",
              "    <tr style=\"text-align: right;\">\n",
              "      <th></th>\n",
              "      <th>YEAR</th>\n",
              "      <th>MONTH</th>\n",
              "      <th>DAY</th>\n",
              "      <th>DAY_OF_WEEK</th>\n",
              "      <th>AIRLINE</th>\n",
              "      <th>FLIGHT_NUMBER</th>\n",
              "      <th>TAIL_NUMBER</th>\n",
              "      <th>ORIGIN_AIRPORT</th>\n",
              "      <th>DESTINATION_AIRPORT</th>\n",
              "      <th>SCHEDULED_DEPARTURE</th>\n",
              "      <th>...</th>\n",
              "      <th>ARRIVAL_TIME</th>\n",
              "      <th>ARRIVAL_DELAY</th>\n",
              "      <th>DIVERTED</th>\n",
              "      <th>CANCELLED</th>\n",
              "      <th>CANCELLATION_REASON</th>\n",
              "      <th>AIR_SYSTEM_DELAY</th>\n",
              "      <th>SECURITY_DELAY</th>\n",
              "      <th>AIRLINE_DELAY</th>\n",
              "      <th>LATE_AIRCRAFT_DELAY</th>\n",
              "      <th>WEATHER_DELAY</th>\n",
              "    </tr>\n",
              "  </thead>\n",
              "  <tbody>\n",
              "    <tr>\n",
              "      <th>0</th>\n",
              "      <td>2015</td>\n",
              "      <td>1</td>\n",
              "      <td>1</td>\n",
              "      <td>4</td>\n",
              "      <td>AS</td>\n",
              "      <td>98</td>\n",
              "      <td>N407AS</td>\n",
              "      <td>ANC</td>\n",
              "      <td>SEA</td>\n",
              "      <td>5</td>\n",
              "      <td>...</td>\n",
              "      <td>408.0</td>\n",
              "      <td>-22.0</td>\n",
              "      <td>0</td>\n",
              "      <td>0</td>\n",
              "      <td>NaN</td>\n",
              "      <td>NaN</td>\n",
              "      <td>NaN</td>\n",
              "      <td>NaN</td>\n",
              "      <td>NaN</td>\n",
              "      <td>NaN</td>\n",
              "    </tr>\n",
              "    <tr>\n",
              "      <th>1</th>\n",
              "      <td>2015</td>\n",
              "      <td>1</td>\n",
              "      <td>1</td>\n",
              "      <td>4</td>\n",
              "      <td>AA</td>\n",
              "      <td>2336</td>\n",
              "      <td>N3KUAA</td>\n",
              "      <td>LAX</td>\n",
              "      <td>PBI</td>\n",
              "      <td>10</td>\n",
              "      <td>...</td>\n",
              "      <td>741.0</td>\n",
              "      <td>-9.0</td>\n",
              "      <td>0</td>\n",
              "      <td>0</td>\n",
              "      <td>NaN</td>\n",
              "      <td>NaN</td>\n",
              "      <td>NaN</td>\n",
              "      <td>NaN</td>\n",
              "      <td>NaN</td>\n",
              "      <td>NaN</td>\n",
              "    </tr>\n",
              "    <tr>\n",
              "      <th>2</th>\n",
              "      <td>2015</td>\n",
              "      <td>1</td>\n",
              "      <td>1</td>\n",
              "      <td>4</td>\n",
              "      <td>US</td>\n",
              "      <td>840</td>\n",
              "      <td>N171US</td>\n",
              "      <td>SFO</td>\n",
              "      <td>CLT</td>\n",
              "      <td>20</td>\n",
              "      <td>...</td>\n",
              "      <td>811.0</td>\n",
              "      <td>5.0</td>\n",
              "      <td>0</td>\n",
              "      <td>0</td>\n",
              "      <td>NaN</td>\n",
              "      <td>NaN</td>\n",
              "      <td>NaN</td>\n",
              "      <td>NaN</td>\n",
              "      <td>NaN</td>\n",
              "      <td>NaN</td>\n",
              "    </tr>\n",
              "    <tr>\n",
              "      <th>3</th>\n",
              "      <td>2015</td>\n",
              "      <td>1</td>\n",
              "      <td>1</td>\n",
              "      <td>4</td>\n",
              "      <td>AA</td>\n",
              "      <td>258</td>\n",
              "      <td>N3HYAA</td>\n",
              "      <td>LAX</td>\n",
              "      <td>MIA</td>\n",
              "      <td>20</td>\n",
              "      <td>...</td>\n",
              "      <td>756.0</td>\n",
              "      <td>-9.0</td>\n",
              "      <td>0</td>\n",
              "      <td>0</td>\n",
              "      <td>NaN</td>\n",
              "      <td>NaN</td>\n",
              "      <td>NaN</td>\n",
              "      <td>NaN</td>\n",
              "      <td>NaN</td>\n",
              "      <td>NaN</td>\n",
              "    </tr>\n",
              "    <tr>\n",
              "      <th>4</th>\n",
              "      <td>2015</td>\n",
              "      <td>1</td>\n",
              "      <td>1</td>\n",
              "      <td>4</td>\n",
              "      <td>AS</td>\n",
              "      <td>135</td>\n",
              "      <td>N527AS</td>\n",
              "      <td>SEA</td>\n",
              "      <td>ANC</td>\n",
              "      <td>25</td>\n",
              "      <td>...</td>\n",
              "      <td>259.0</td>\n",
              "      <td>-21.0</td>\n",
              "      <td>0</td>\n",
              "      <td>0</td>\n",
              "      <td>NaN</td>\n",
              "      <td>NaN</td>\n",
              "      <td>NaN</td>\n",
              "      <td>NaN</td>\n",
              "      <td>NaN</td>\n",
              "      <td>NaN</td>\n",
              "    </tr>\n",
              "  </tbody>\n",
              "</table>\n",
              "<p>5 rows × 31 columns</p>\n",
              "</div>"
            ],
            "text/plain": [
              "   YEAR  MONTH  DAY  DAY_OF_WEEK AIRLINE  FLIGHT_NUMBER TAIL_NUMBER  \\\n",
              "0  2015      1    1            4      AS             98      N407AS   \n",
              "1  2015      1    1            4      AA           2336      N3KUAA   \n",
              "2  2015      1    1            4      US            840      N171US   \n",
              "3  2015      1    1            4      AA            258      N3HYAA   \n",
              "4  2015      1    1            4      AS            135      N527AS   \n",
              "\n",
              "  ORIGIN_AIRPORT DESTINATION_AIRPORT  SCHEDULED_DEPARTURE  ...  ARRIVAL_TIME  \\\n",
              "0            ANC                 SEA                    5  ...         408.0   \n",
              "1            LAX                 PBI                   10  ...         741.0   \n",
              "2            SFO                 CLT                   20  ...         811.0   \n",
              "3            LAX                 MIA                   20  ...         756.0   \n",
              "4            SEA                 ANC                   25  ...         259.0   \n",
              "\n",
              "   ARRIVAL_DELAY  DIVERTED  CANCELLED  CANCELLATION_REASON  AIR_SYSTEM_DELAY  \\\n",
              "0          -22.0         0          0                  NaN               NaN   \n",
              "1           -9.0         0          0                  NaN               NaN   \n",
              "2            5.0         0          0                  NaN               NaN   \n",
              "3           -9.0         0          0                  NaN               NaN   \n",
              "4          -21.0         0          0                  NaN               NaN   \n",
              "\n",
              "   SECURITY_DELAY  AIRLINE_DELAY  LATE_AIRCRAFT_DELAY  WEATHER_DELAY  \n",
              "0             NaN            NaN                  NaN            NaN  \n",
              "1             NaN            NaN                  NaN            NaN  \n",
              "2             NaN            NaN                  NaN            NaN  \n",
              "3             NaN            NaN                  NaN            NaN  \n",
              "4             NaN            NaN                  NaN            NaN  \n",
              "\n",
              "[5 rows x 31 columns]"
            ]
          },
          "execution_count": 3,
          "metadata": {},
          "output_type": "execute_result"
        }
      ],
      "source": [
        "df.head()"
      ]
    },
    {
      "cell_type": "markdown",
      "metadata": {
        "tags": [],
        "id": "TmyqEdIqlxDc"
      },
      "source": [
        "# Analysis"
      ]
    },
    {
      "cell_type": "markdown",
      "metadata": {
        "tags": [],
        "id": "BjkteQ_clxDd"
      },
      "source": [
        "## Which airlines performs the worst? Which the best?"
      ]
    },
    {
      "cell_type": "code",
      "execution_count": null,
      "metadata": {
        "id": "le-3J1K_lxDd",
        "outputId": "9b15c61e-c2fe-40fc-b651-03d48eae49cf"
      },
      "outputs": [
        {
          "name": "stdout",
          "output_type": "stream",
          "text": [
            "<class 'pandas.core.frame.DataFrame'>\n",
            "RangeIndex: 5819079 entries, 0 to 5819078\n",
            "Data columns (total 31 columns):\n",
            " #   Column               Non-Null Count    Dtype  \n",
            "---  ------               --------------    -----  \n",
            " 0   YEAR                 5819079 non-null  int64  \n",
            " 1   MONTH                5819079 non-null  int64  \n",
            " 2   DAY                  5819079 non-null  int64  \n",
            " 3   DAY_OF_WEEK          5819079 non-null  int64  \n",
            " 4   AIRLINE              5819079 non-null  object \n",
            " 5   FLIGHT_NUMBER        5819079 non-null  int64  \n",
            " 6   TAIL_NUMBER          5804358 non-null  object \n",
            " 7   ORIGIN_AIRPORT       5819079 non-null  object \n",
            " 8   DESTINATION_AIRPORT  5819079 non-null  object \n",
            " 9   SCHEDULED_DEPARTURE  5819079 non-null  int64  \n",
            " 10  DEPARTURE_TIME       5732926 non-null  float64\n",
            " 11  DEPARTURE_DELAY      5732926 non-null  float64\n",
            " 12  TAXI_OUT             5730032 non-null  float64\n",
            " 13  WHEELS_OFF           5730032 non-null  float64\n",
            " 14  SCHEDULED_TIME       5819073 non-null  float64\n",
            " 15  ELAPSED_TIME         5714008 non-null  float64\n",
            " 16  AIR_TIME             5714008 non-null  float64\n",
            " 17  DISTANCE             5819079 non-null  int64  \n",
            " 18  WHEELS_ON            5726566 non-null  float64\n",
            " 19  TAXI_IN              5726566 non-null  float64\n",
            " 20  SCHEDULED_ARRIVAL    5819079 non-null  int64  \n",
            " 21  ARRIVAL_TIME         5726566 non-null  float64\n",
            " 22  ARRIVAL_DELAY        5714008 non-null  float64\n",
            " 23  DIVERTED             5819079 non-null  int64  \n",
            " 24  CANCELLED            5819079 non-null  int64  \n",
            " 25  CANCELLATION_REASON  89884 non-null    object \n",
            " 26  AIR_SYSTEM_DELAY     1063439 non-null  float64\n",
            " 27  SECURITY_DELAY       1063439 non-null  float64\n",
            " 28  AIRLINE_DELAY        1063439 non-null  float64\n",
            " 29  LATE_AIRCRAFT_DELAY  1063439 non-null  float64\n",
            " 30  WEATHER_DELAY        1063439 non-null  float64\n",
            "dtypes: float64(16), int64(10), object(5)\n",
            "memory usage: 1.3+ GB\n"
          ]
        }
      ],
      "source": [
        "df.info(show_counts=True)"
      ]
    },
    {
      "cell_type": "markdown",
      "metadata": {
        "id": "iOzI4F6QlxDd"
      },
      "source": [
        "* Approximately 6M flights\n",
        "* Investigate missing values"
      ]
    },
    {
      "cell_type": "code",
      "execution_count": null,
      "metadata": {
        "id": "Jh51CS0DlxDe"
      },
      "outputs": [],
      "source": [
        "df_performance = df.copy()\n",
        "df_performance = df_performance[['YEAR', 'MONTH', 'DAY', 'AIRLINE', 'DEPARTURE_DELAY', 'ARRIVAL_DELAY', 'ORIGIN_AIRPORT', 'DESTINATION_AIRPORT', 'CANCELLED']]"
      ]
    },
    {
      "cell_type": "code",
      "execution_count": null,
      "metadata": {
        "id": "T9u8p4sRlxDe",
        "outputId": "db6adfa3-7703-4b24-9ea6-ec9fd5016c0b"
      },
      "outputs": [
        {
          "data": {
            "text/html": [
              "<div>\n",
              "<style scoped>\n",
              "    .dataframe tbody tr th:only-of-type {\n",
              "        vertical-align: middle;\n",
              "    }\n",
              "\n",
              "    .dataframe tbody tr th {\n",
              "        vertical-align: top;\n",
              "    }\n",
              "\n",
              "    .dataframe thead th {\n",
              "        text-align: right;\n",
              "    }\n",
              "</style>\n",
              "<table border=\"1\" class=\"dataframe\">\n",
              "  <thead>\n",
              "    <tr style=\"text-align: right;\">\n",
              "      <th></th>\n",
              "      <th>Feature</th>\n",
              "      <th>Null</th>\n",
              "      <th>Missing %</th>\n",
              "    </tr>\n",
              "  </thead>\n",
              "  <tbody>\n",
              "    <tr>\n",
              "      <th>0</th>\n",
              "      <td>ARRIVAL_DELAY</td>\n",
              "      <td>105071</td>\n",
              "      <td>2.0</td>\n",
              "    </tr>\n",
              "    <tr>\n",
              "      <th>1</th>\n",
              "      <td>DEPARTURE_DELAY</td>\n",
              "      <td>86153</td>\n",
              "      <td>1.0</td>\n",
              "    </tr>\n",
              "    <tr>\n",
              "      <th>2</th>\n",
              "      <td>YEAR</td>\n",
              "      <td>0</td>\n",
              "      <td>0.0</td>\n",
              "    </tr>\n",
              "    <tr>\n",
              "      <th>3</th>\n",
              "      <td>MONTH</td>\n",
              "      <td>0</td>\n",
              "      <td>0.0</td>\n",
              "    </tr>\n",
              "    <tr>\n",
              "      <th>4</th>\n",
              "      <td>DAY</td>\n",
              "      <td>0</td>\n",
              "      <td>0.0</td>\n",
              "    </tr>\n",
              "    <tr>\n",
              "      <th>5</th>\n",
              "      <td>AIRLINE</td>\n",
              "      <td>0</td>\n",
              "      <td>0.0</td>\n",
              "    </tr>\n",
              "    <tr>\n",
              "      <th>6</th>\n",
              "      <td>ORIGIN_AIRPORT</td>\n",
              "      <td>0</td>\n",
              "      <td>0.0</td>\n",
              "    </tr>\n",
              "    <tr>\n",
              "      <th>7</th>\n",
              "      <td>DESTINATION_AIRPORT</td>\n",
              "      <td>0</td>\n",
              "      <td>0.0</td>\n",
              "    </tr>\n",
              "    <tr>\n",
              "      <th>8</th>\n",
              "      <td>CANCELLED</td>\n",
              "      <td>0</td>\n",
              "      <td>0.0</td>\n",
              "    </tr>\n",
              "  </tbody>\n",
              "</table>\n",
              "</div>"
            ],
            "text/plain": [
              "               Feature    Null  Missing %\n",
              "0        ARRIVAL_DELAY  105071        2.0\n",
              "1      DEPARTURE_DELAY   86153        1.0\n",
              "2                 YEAR       0        0.0\n",
              "3                MONTH       0        0.0\n",
              "4                  DAY       0        0.0\n",
              "5              AIRLINE       0        0.0\n",
              "6       ORIGIN_AIRPORT       0        0.0\n",
              "7  DESTINATION_AIRPORT       0        0.0\n",
              "8            CANCELLED       0        0.0"
            ]
          },
          "execution_count": 6,
          "metadata": {},
          "output_type": "execute_result"
        }
      ],
      "source": [
        "df_missing = df_performance.isnull().sum(axis=0).reset_index()  # reset_index() turns series into dataframe\n",
        "df_missing.columns = ['Feature', 'Null']\n",
        "df_missing['Missing %'] = round((df_missing['Null']) / df_performance.shape[0] * 100, 0)\n",
        "df_missing.sort_values('Missing %', ascending=False).reset_index(drop=True)"
      ]
    },
    {
      "cell_type": "markdown",
      "metadata": {
        "id": "V_FbUqgMlxDf"
      },
      "source": [
        "* Only 2% of 6M records are missing data\n",
        "* Check if \"missing\" delays correspond to cancellations"
      ]
    },
    {
      "cell_type": "code",
      "execution_count": null,
      "metadata": {
        "id": "nx6A_hIhlxDf",
        "outputId": "60e4b6c9-7d57-47e3-e741-d1820c50a479"
      },
      "outputs": [
        {
          "data": {
            "text/html": [
              "<div>\n",
              "<style scoped>\n",
              "    .dataframe tbody tr th:only-of-type {\n",
              "        vertical-align: middle;\n",
              "    }\n",
              "\n",
              "    .dataframe tbody tr th {\n",
              "        vertical-align: top;\n",
              "    }\n",
              "\n",
              "    .dataframe thead th {\n",
              "        text-align: right;\n",
              "    }\n",
              "</style>\n",
              "<table border=\"1\" class=\"dataframe\">\n",
              "  <thead>\n",
              "    <tr style=\"text-align: right;\">\n",
              "      <th></th>\n",
              "      <th>YEAR</th>\n",
              "      <th>MONTH</th>\n",
              "      <th>DAY</th>\n",
              "      <th>AIRLINE</th>\n",
              "      <th>DEPARTURE_DELAY</th>\n",
              "      <th>ARRIVAL_DELAY</th>\n",
              "      <th>ORIGIN_AIRPORT</th>\n",
              "      <th>DESTINATION_AIRPORT</th>\n",
              "      <th>CANCELLED</th>\n",
              "    </tr>\n",
              "  </thead>\n",
              "  <tbody>\n",
              "    <tr>\n",
              "      <th>32</th>\n",
              "      <td>2015</td>\n",
              "      <td>1</td>\n",
              "      <td>1</td>\n",
              "      <td>AS</td>\n",
              "      <td>NaN</td>\n",
              "      <td>NaN</td>\n",
              "      <td>ANC</td>\n",
              "      <td>SEA</td>\n",
              "      <td>1</td>\n",
              "    </tr>\n",
              "    <tr>\n",
              "      <th>42</th>\n",
              "      <td>2015</td>\n",
              "      <td>1</td>\n",
              "      <td>1</td>\n",
              "      <td>AA</td>\n",
              "      <td>NaN</td>\n",
              "      <td>NaN</td>\n",
              "      <td>PHX</td>\n",
              "      <td>DFW</td>\n",
              "      <td>1</td>\n",
              "    </tr>\n",
              "    <tr>\n",
              "      <th>68</th>\n",
              "      <td>2015</td>\n",
              "      <td>1</td>\n",
              "      <td>1</td>\n",
              "      <td>OO</td>\n",
              "      <td>NaN</td>\n",
              "      <td>NaN</td>\n",
              "      <td>MAF</td>\n",
              "      <td>IAH</td>\n",
              "      <td>1</td>\n",
              "    </tr>\n",
              "    <tr>\n",
              "      <th>82</th>\n",
              "      <td>2015</td>\n",
              "      <td>1</td>\n",
              "      <td>1</td>\n",
              "      <td>MQ</td>\n",
              "      <td>NaN</td>\n",
              "      <td>NaN</td>\n",
              "      <td>SGF</td>\n",
              "      <td>DFW</td>\n",
              "      <td>1</td>\n",
              "    </tr>\n",
              "    <tr>\n",
              "      <th>90</th>\n",
              "      <td>2015</td>\n",
              "      <td>1</td>\n",
              "      <td>1</td>\n",
              "      <td>OO</td>\n",
              "      <td>NaN</td>\n",
              "      <td>NaN</td>\n",
              "      <td>RDD</td>\n",
              "      <td>SFO</td>\n",
              "      <td>1</td>\n",
              "    </tr>\n",
              "    <tr>\n",
              "      <th>...</th>\n",
              "      <td>...</td>\n",
              "      <td>...</td>\n",
              "      <td>...</td>\n",
              "      <td>...</td>\n",
              "      <td>...</td>\n",
              "      <td>...</td>\n",
              "      <td>...</td>\n",
              "      <td>...</td>\n",
              "      <td>...</td>\n",
              "    </tr>\n",
              "    <tr>\n",
              "      <th>5818157</th>\n",
              "      <td>2015</td>\n",
              "      <td>12</td>\n",
              "      <td>31</td>\n",
              "      <td>UA</td>\n",
              "      <td>NaN</td>\n",
              "      <td>NaN</td>\n",
              "      <td>SFO</td>\n",
              "      <td>LAX</td>\n",
              "      <td>1</td>\n",
              "    </tr>\n",
              "    <tr>\n",
              "      <th>5818160</th>\n",
              "      <td>2015</td>\n",
              "      <td>12</td>\n",
              "      <td>31</td>\n",
              "      <td>WN</td>\n",
              "      <td>13.0</td>\n",
              "      <td>NaN</td>\n",
              "      <td>MDW</td>\n",
              "      <td>ABQ</td>\n",
              "      <td>0</td>\n",
              "    </tr>\n",
              "    <tr>\n",
              "      <th>5818318</th>\n",
              "      <td>2015</td>\n",
              "      <td>12</td>\n",
              "      <td>31</td>\n",
              "      <td>AA</td>\n",
              "      <td>NaN</td>\n",
              "      <td>NaN</td>\n",
              "      <td>MIA</td>\n",
              "      <td>SAN</td>\n",
              "      <td>1</td>\n",
              "    </tr>\n",
              "    <tr>\n",
              "      <th>5818777</th>\n",
              "      <td>2015</td>\n",
              "      <td>12</td>\n",
              "      <td>31</td>\n",
              "      <td>NK</td>\n",
              "      <td>NaN</td>\n",
              "      <td>NaN</td>\n",
              "      <td>FLL</td>\n",
              "      <td>IAG</td>\n",
              "      <td>1</td>\n",
              "    </tr>\n",
              "    <tr>\n",
              "      <th>5818843</th>\n",
              "      <td>2015</td>\n",
              "      <td>12</td>\n",
              "      <td>31</td>\n",
              "      <td>AA</td>\n",
              "      <td>NaN</td>\n",
              "      <td>NaN</td>\n",
              "      <td>SAN</td>\n",
              "      <td>MIA</td>\n",
              "      <td>1</td>\n",
              "    </tr>\n",
              "  </tbody>\n",
              "</table>\n",
              "<p>105071 rows × 9 columns</p>\n",
              "</div>"
            ],
            "text/plain": [
              "         YEAR  MONTH  DAY AIRLINE  DEPARTURE_DELAY  ARRIVAL_DELAY  \\\n",
              "32       2015      1    1      AS              NaN            NaN   \n",
              "42       2015      1    1      AA              NaN            NaN   \n",
              "68       2015      1    1      OO              NaN            NaN   \n",
              "82       2015      1    1      MQ              NaN            NaN   \n",
              "90       2015      1    1      OO              NaN            NaN   \n",
              "...       ...    ...  ...     ...              ...            ...   \n",
              "5818157  2015     12   31      UA              NaN            NaN   \n",
              "5818160  2015     12   31      WN             13.0            NaN   \n",
              "5818318  2015     12   31      AA              NaN            NaN   \n",
              "5818777  2015     12   31      NK              NaN            NaN   \n",
              "5818843  2015     12   31      AA              NaN            NaN   \n",
              "\n",
              "        ORIGIN_AIRPORT DESTINATION_AIRPORT  CANCELLED  \n",
              "32                 ANC                 SEA          1  \n",
              "42                 PHX                 DFW          1  \n",
              "68                 MAF                 IAH          1  \n",
              "82                 SGF                 DFW          1  \n",
              "90                 RDD                 SFO          1  \n",
              "...                ...                 ...        ...  \n",
              "5818157            SFO                 LAX          1  \n",
              "5818160            MDW                 ABQ          0  \n",
              "5818318            MIA                 SAN          1  \n",
              "5818777            FLL                 IAG          1  \n",
              "5818843            SAN                 MIA          1  \n",
              "\n",
              "[105071 rows x 9 columns]"
            ]
          },
          "execution_count": 7,
          "metadata": {},
          "output_type": "execute_result"
        }
      ],
      "source": [
        "df_performance[df_performance['ARRIVAL_DELAY'].isnull() | df_performance['DEPARTURE_DELAY'].isnull()]"
      ]
    },
    {
      "cell_type": "markdown",
      "metadata": {
        "id": "-ysNCb5VlxDf"
      },
      "source": [
        "* `CANCELLED` flag appears when `DEPARTURE_DELAY` and `ARRIVAL_DELAY` are `NaN`\n",
        "* `ARRIVAL_DELAY` `NaN` when `DEPARTURE_DELAY`\n",
        "* Drop nulls for delay performance analysis"
      ]
    },
    {
      "cell_type": "code",
      "execution_count": null,
      "metadata": {
        "id": "niD5bVM_lxDg"
      },
      "outputs": [],
      "source": [
        "df_performance.dropna(inplace=True)"
      ]
    },
    {
      "cell_type": "code",
      "execution_count": null,
      "metadata": {
        "id": "LXXjUyP8lxDg"
      },
      "outputs": [],
      "source": [
        "df_performance['TOTAL_DELAY'] = df_performance['DEPARTURE_DELAY'] + df_performance['ARRIVAL_DELAY']"
      ]
    },
    {
      "cell_type": "code",
      "execution_count": null,
      "metadata": {
        "id": "K2jMMgSUlxDg"
      },
      "outputs": [],
      "source": [
        "airline_avg_delay_per_min = df_performance[['AIRLINE', 'DEPARTURE_DELAY', 'ARRIVAL_DELAY', 'TOTAL_DELAY']].groupby('AIRLINE').mean()"
      ]
    },
    {
      "cell_type": "code",
      "execution_count": null,
      "metadata": {
        "tags": [],
        "id": "7hM65V1rlxDg"
      },
      "outputs": [],
      "source": [
        "airline_avg_delay_per_min = airline_avg_delay_per_min.sort_values('TOTAL_DELAY', ascending=False)"
      ]
    },
    {
      "cell_type": "code",
      "execution_count": null,
      "metadata": {
        "id": "XV66mrrSlxDh",
        "outputId": "4edb1096-e5b0-490e-f5b1-a861572ba5ba"
      },
      "outputs": [
        {
          "data": {
            "text/html": [
              "<div>\n",
              "<style scoped>\n",
              "    .dataframe tbody tr th:only-of-type {\n",
              "        vertical-align: middle;\n",
              "    }\n",
              "\n",
              "    .dataframe tbody tr th {\n",
              "        vertical-align: top;\n",
              "    }\n",
              "\n",
              "    .dataframe thead th {\n",
              "        text-align: right;\n",
              "    }\n",
              "</style>\n",
              "<table border=\"1\" class=\"dataframe\">\n",
              "  <thead>\n",
              "    <tr style=\"text-align: right;\">\n",
              "      <th></th>\n",
              "      <th>DEPARTURE_DELAY</th>\n",
              "      <th>ARRIVAL_DELAY</th>\n",
              "      <th>TOTAL_DELAY</th>\n",
              "    </tr>\n",
              "    <tr>\n",
              "      <th>AIRLINE</th>\n",
              "      <th></th>\n",
              "      <th></th>\n",
              "      <th></th>\n",
              "    </tr>\n",
              "  </thead>\n",
              "  <tbody>\n",
              "    <tr>\n",
              "      <th>NK</th>\n",
              "      <td>15.883101</td>\n",
              "      <td>14.471800</td>\n",
              "      <td>30.354900</td>\n",
              "    </tr>\n",
              "    <tr>\n",
              "      <th>F9</th>\n",
              "      <td>13.303352</td>\n",
              "      <td>12.504706</td>\n",
              "      <td>25.808059</td>\n",
              "    </tr>\n",
              "    <tr>\n",
              "      <th>UA</th>\n",
              "      <td>14.333056</td>\n",
              "      <td>5.431594</td>\n",
              "      <td>19.764650</td>\n",
              "    </tr>\n",
              "    <tr>\n",
              "      <th>B6</th>\n",
              "      <td>11.442467</td>\n",
              "      <td>6.677861</td>\n",
              "      <td>18.120328</td>\n",
              "    </tr>\n",
              "    <tr>\n",
              "      <th>MQ</th>\n",
              "      <td>9.967187</td>\n",
              "      <td>6.457873</td>\n",
              "      <td>16.425060</td>\n",
              "    </tr>\n",
              "    <tr>\n",
              "      <th>EV</th>\n",
              "      <td>8.615598</td>\n",
              "      <td>6.585379</td>\n",
              "      <td>15.200976</td>\n",
              "    </tr>\n",
              "    <tr>\n",
              "      <th>WN</th>\n",
              "      <td>10.517183</td>\n",
              "      <td>4.374964</td>\n",
              "      <td>14.892147</td>\n",
              "    </tr>\n",
              "    <tr>\n",
              "      <th>VX</th>\n",
              "      <td>8.993486</td>\n",
              "      <td>4.737706</td>\n",
              "      <td>13.731191</td>\n",
              "    </tr>\n",
              "    <tr>\n",
              "      <th>OO</th>\n",
              "      <td>7.736083</td>\n",
              "      <td>5.845652</td>\n",
              "      <td>13.581735</td>\n",
              "    </tr>\n",
              "    <tr>\n",
              "      <th>AA</th>\n",
              "      <td>8.826106</td>\n",
              "      <td>3.451372</td>\n",
              "      <td>12.277478</td>\n",
              "    </tr>\n",
              "    <tr>\n",
              "      <th>US</th>\n",
              "      <td>6.081000</td>\n",
              "      <td>3.706209</td>\n",
              "      <td>9.787209</td>\n",
              "    </tr>\n",
              "    <tr>\n",
              "      <th>DL</th>\n",
              "      <td>7.313300</td>\n",
              "      <td>0.186754</td>\n",
              "      <td>7.500053</td>\n",
              "    </tr>\n",
              "    <tr>\n",
              "      <th>HA</th>\n",
              "      <td>0.469918</td>\n",
              "      <td>2.023093</td>\n",
              "      <td>2.493010</td>\n",
              "    </tr>\n",
              "    <tr>\n",
              "      <th>AS</th>\n",
              "      <td>1.718926</td>\n",
              "      <td>-0.976563</td>\n",
              "      <td>0.742363</td>\n",
              "    </tr>\n",
              "  </tbody>\n",
              "</table>\n",
              "</div>"
            ],
            "text/plain": [
              "         DEPARTURE_DELAY  ARRIVAL_DELAY  TOTAL_DELAY\n",
              "AIRLINE                                             \n",
              "NK             15.883101      14.471800    30.354900\n",
              "F9             13.303352      12.504706    25.808059\n",
              "UA             14.333056       5.431594    19.764650\n",
              "B6             11.442467       6.677861    18.120328\n",
              "MQ              9.967187       6.457873    16.425060\n",
              "EV              8.615598       6.585379    15.200976\n",
              "WN             10.517183       4.374964    14.892147\n",
              "VX              8.993486       4.737706    13.731191\n",
              "OO              7.736083       5.845652    13.581735\n",
              "AA              8.826106       3.451372    12.277478\n",
              "US              6.081000       3.706209     9.787209\n",
              "DL              7.313300       0.186754     7.500053\n",
              "HA              0.469918       2.023093     2.493010\n",
              "AS              1.718926      -0.976563     0.742363"
            ]
          },
          "execution_count": 12,
          "metadata": {},
          "output_type": "execute_result"
        }
      ],
      "source": [
        "airline_avg_delay_per_min"
      ]
    },
    {
      "cell_type": "code",
      "execution_count": null,
      "metadata": {
        "id": "0Jq2XNMPlxDh",
        "outputId": "268196db-28d7-42d9-cedd-3617f9f3a1e7"
      },
      "outputs": [
        {
          "data": {
            "image/png": "[encoded data removed]",
            "text/plain": [
              "<Figure size 1200x400 with 1 Axes>"
            ]
          },
          "metadata": {},
          "output_type": "display_data"
        }
      ],
      "source": [
        "fig, axs = plt.subplots(figsize=(12, 4))\n",
        "airline_avg_delay_per_min[['DEPARTURE_DELAY', 'ARRIVAL_DELAY']].plot.bar(ax=axs, stacked=True)\n",
        "axs.set_ylabel('AVG TOT DELAY (MIN)')\n",
        "axs.set_title('2015 AIRLINE PERFORMANCE (WORST TO BEST)')\n",
        "fig.savefig('images/flights/airline_delay_performance.png')"
      ]
    },
    {
      "cell_type": "markdown",
      "metadata": {
        "id": "OlVvdMIjlxDi"
      },
      "source": [
        "* Spirit peforms the worst; Alaska Airlines performs the best\n",
        "* United Airlines third worst performer\n",
        "* United Airlines delays primarily from departures"
      ]
    },
    {
      "cell_type": "markdown",
      "metadata": {
        "id": "V3NwMjR4lxDi"
      },
      "source": [
        "## Does airline performance change over the months of the year? Is one airline always the worst performing or is there variability?"
      ]
    },
    {
      "cell_type": "code",
      "execution_count": null,
      "metadata": {
        "id": "5f7-X7PxlxDi",
        "outputId": "edc36345-788d-412c-c3ae-872867c6c93e"
      },
      "outputs": [
        {
          "data": {
            "text/html": [
              "<div>\n",
              "<style scoped>\n",
              "    .dataframe tbody tr th:only-of-type {\n",
              "        vertical-align: middle;\n",
              "    }\n",
              "\n",
              "    .dataframe tbody tr th {\n",
              "        vertical-align: top;\n",
              "    }\n",
              "\n",
              "    .dataframe thead th {\n",
              "        text-align: right;\n",
              "    }\n",
              "</style>\n",
              "<table border=\"1\" class=\"dataframe\">\n",
              "  <thead>\n",
              "    <tr style=\"text-align: right;\">\n",
              "      <th></th>\n",
              "      <th>YEAR</th>\n",
              "      <th>MONTH</th>\n",
              "      <th>DAY</th>\n",
              "      <th>AIRLINE</th>\n",
              "      <th>DEPARTURE_DELAY</th>\n",
              "      <th>ARRIVAL_DELAY</th>\n",
              "      <th>ORIGIN_AIRPORT</th>\n",
              "      <th>DESTINATION_AIRPORT</th>\n",
              "      <th>CANCELLED</th>\n",
              "      <th>TOTAL_DELAY</th>\n",
              "    </tr>\n",
              "  </thead>\n",
              "  <tbody>\n",
              "    <tr>\n",
              "      <th>0</th>\n",
              "      <td>2015</td>\n",
              "      <td>1</td>\n",
              "      <td>1</td>\n",
              "      <td>AS</td>\n",
              "      <td>-11.0</td>\n",
              "      <td>-22.0</td>\n",
              "      <td>ANC</td>\n",
              "      <td>SEA</td>\n",
              "      <td>0</td>\n",
              "      <td>-33.0</td>\n",
              "    </tr>\n",
              "    <tr>\n",
              "      <th>1</th>\n",
              "      <td>2015</td>\n",
              "      <td>1</td>\n",
              "      <td>1</td>\n",
              "      <td>AA</td>\n",
              "      <td>-8.0</td>\n",
              "      <td>-9.0</td>\n",
              "      <td>LAX</td>\n",
              "      <td>PBI</td>\n",
              "      <td>0</td>\n",
              "      <td>-17.0</td>\n",
              "    </tr>\n",
              "    <tr>\n",
              "      <th>2</th>\n",
              "      <td>2015</td>\n",
              "      <td>1</td>\n",
              "      <td>1</td>\n",
              "      <td>US</td>\n",
              "      <td>-2.0</td>\n",
              "      <td>5.0</td>\n",
              "      <td>SFO</td>\n",
              "      <td>CLT</td>\n",
              "      <td>0</td>\n",
              "      <td>3.0</td>\n",
              "    </tr>\n",
              "    <tr>\n",
              "      <th>3</th>\n",
              "      <td>2015</td>\n",
              "      <td>1</td>\n",
              "      <td>1</td>\n",
              "      <td>AA</td>\n",
              "      <td>-5.0</td>\n",
              "      <td>-9.0</td>\n",
              "      <td>LAX</td>\n",
              "      <td>MIA</td>\n",
              "      <td>0</td>\n",
              "      <td>-14.0</td>\n",
              "    </tr>\n",
              "    <tr>\n",
              "      <th>4</th>\n",
              "      <td>2015</td>\n",
              "      <td>1</td>\n",
              "      <td>1</td>\n",
              "      <td>AS</td>\n",
              "      <td>-1.0</td>\n",
              "      <td>-21.0</td>\n",
              "      <td>SEA</td>\n",
              "      <td>ANC</td>\n",
              "      <td>0</td>\n",
              "      <td>-22.0</td>\n",
              "    </tr>\n",
              "  </tbody>\n",
              "</table>\n",
              "</div>"
            ],
            "text/plain": [
              "   YEAR  MONTH  DAY AIRLINE  DEPARTURE_DELAY  ARRIVAL_DELAY ORIGIN_AIRPORT  \\\n",
              "0  2015      1    1      AS            -11.0          -22.0            ANC   \n",
              "1  2015      1    1      AA             -8.0           -9.0            LAX   \n",
              "2  2015      1    1      US             -2.0            5.0            SFO   \n",
              "3  2015      1    1      AA             -5.0           -9.0            LAX   \n",
              "4  2015      1    1      AS             -1.0          -21.0            SEA   \n",
              "\n",
              "  DESTINATION_AIRPORT  CANCELLED  TOTAL_DELAY  \n",
              "0                 SEA          0        -33.0  \n",
              "1                 PBI          0        -17.0  \n",
              "2                 CLT          0          3.0  \n",
              "3                 MIA          0        -14.0  \n",
              "4                 ANC          0        -22.0  "
            ]
          },
          "execution_count": 14,
          "metadata": {},
          "output_type": "execute_result"
        }
      ],
      "source": [
        "df_performance.head()"
      ]
    },
    {
      "cell_type": "code",
      "execution_count": null,
      "metadata": {
        "id": "cwqkjaZMlxDj"
      },
      "outputs": [],
      "source": [
        "df_performance['DATE'] = pd.to_datetime(df[['YEAR', 'MONTH', 'DAY']])"
      ]
    },
    {
      "cell_type": "code",
      "execution_count": null,
      "metadata": {
        "id": "GcU8i4ADlxDk"
      },
      "outputs": [],
      "source": [
        "df_performance = df_performance[['DATE', 'AIRLINE', 'DEPARTURE_DELAY', 'ARRIVAL_DELAY', 'TOTAL_DELAY', 'ORIGIN_AIRPORT', 'DESTINATION_AIRPORT', 'CANCELLED']]"
      ]
    },
    {
      "cell_type": "code",
      "execution_count": null,
      "metadata": {
        "id": "tNvc4qBHlxDk",
        "outputId": "f49f4381-48fa-415b-83e5-255f9c989eb1"
      },
      "outputs": [
        {
          "data": {
            "text/html": [
              "<div>\n",
              "<style scoped>\n",
              "    .dataframe tbody tr th:only-of-type {\n",
              "        vertical-align: middle;\n",
              "    }\n",
              "\n",
              "    .dataframe tbody tr th {\n",
              "        vertical-align: top;\n",
              "    }\n",
              "\n",
              "    .dataframe thead th {\n",
              "        text-align: right;\n",
              "    }\n",
              "</style>\n",
              "<table border=\"1\" class=\"dataframe\">\n",
              "  <thead>\n",
              "    <tr style=\"text-align: right;\">\n",
              "      <th></th>\n",
              "      <th>DATE</th>\n",
              "      <th>AIRLINE</th>\n",
              "      <th>DEPARTURE_DELAY</th>\n",
              "      <th>ARRIVAL_DELAY</th>\n",
              "      <th>TOTAL_DELAY</th>\n",
              "      <th>ORIGIN_AIRPORT</th>\n",
              "      <th>DESTINATION_AIRPORT</th>\n",
              "      <th>CANCELLED</th>\n",
              "    </tr>\n",
              "  </thead>\n",
              "  <tbody>\n",
              "    <tr>\n",
              "      <th>0</th>\n",
              "      <td>2015-01-01</td>\n",
              "      <td>AS</td>\n",
              "      <td>-11.0</td>\n",
              "      <td>-22.0</td>\n",
              "      <td>-33.0</td>\n",
              "      <td>ANC</td>\n",
              "      <td>SEA</td>\n",
              "      <td>0</td>\n",
              "    </tr>\n",
              "    <tr>\n",
              "      <th>1</th>\n",
              "      <td>2015-01-01</td>\n",
              "      <td>AA</td>\n",
              "      <td>-8.0</td>\n",
              "      <td>-9.0</td>\n",
              "      <td>-17.0</td>\n",
              "      <td>LAX</td>\n",
              "      <td>PBI</td>\n",
              "      <td>0</td>\n",
              "    </tr>\n",
              "    <tr>\n",
              "      <th>2</th>\n",
              "      <td>2015-01-01</td>\n",
              "      <td>US</td>\n",
              "      <td>-2.0</td>\n",
              "      <td>5.0</td>\n",
              "      <td>3.0</td>\n",
              "      <td>SFO</td>\n",
              "      <td>CLT</td>\n",
              "      <td>0</td>\n",
              "    </tr>\n",
              "    <tr>\n",
              "      <th>3</th>\n",
              "      <td>2015-01-01</td>\n",
              "      <td>AA</td>\n",
              "      <td>-5.0</td>\n",
              "      <td>-9.0</td>\n",
              "      <td>-14.0</td>\n",
              "      <td>LAX</td>\n",
              "      <td>MIA</td>\n",
              "      <td>0</td>\n",
              "    </tr>\n",
              "    <tr>\n",
              "      <th>4</th>\n",
              "      <td>2015-01-01</td>\n",
              "      <td>AS</td>\n",
              "      <td>-1.0</td>\n",
              "      <td>-21.0</td>\n",
              "      <td>-22.0</td>\n",
              "      <td>SEA</td>\n",
              "      <td>ANC</td>\n",
              "      <td>0</td>\n",
              "    </tr>\n",
              "  </tbody>\n",
              "</table>\n",
              "</div>"
            ],
            "text/plain": [
              "        DATE AIRLINE  DEPARTURE_DELAY  ARRIVAL_DELAY  TOTAL_DELAY  \\\n",
              "0 2015-01-01      AS            -11.0          -22.0        -33.0   \n",
              "1 2015-01-01      AA             -8.0           -9.0        -17.0   \n",
              "2 2015-01-01      US             -2.0            5.0          3.0   \n",
              "3 2015-01-01      AA             -5.0           -9.0        -14.0   \n",
              "4 2015-01-01      AS             -1.0          -21.0        -22.0   \n",
              "\n",
              "  ORIGIN_AIRPORT DESTINATION_AIRPORT  CANCELLED  \n",
              "0            ANC                 SEA          0  \n",
              "1            LAX                 PBI          0  \n",
              "2            SFO                 CLT          0  \n",
              "3            LAX                 MIA          0  \n",
              "4            SEA                 ANC          0  "
            ]
          },
          "execution_count": 17,
          "metadata": {},
          "output_type": "execute_result"
        }
      ],
      "source": [
        "df_performance.head()"
      ]
    },
    {
      "cell_type": "code",
      "execution_count": null,
      "metadata": {
        "id": "n2MVSZ9elxDl"
      },
      "outputs": [],
      "source": [
        "airline_avg_delay_per_month = df_performance.groupby([df_performance['DATE'].dt.month, 'AIRLINE'])['TOTAL_DELAY'].mean()"
      ]
    },
    {
      "cell_type": "code",
      "execution_count": null,
      "metadata": {
        "id": "xm46tIj-lxDm",
        "outputId": "4ae2ef80-1455-4332-d66f-dc2cbbc199a8"
      },
      "outputs": [
        {
          "data": {
            "image/png": "[encoded data removed]",
            "text/plain": [
              "<Figure size 1200x400 with 1 Axes>"
            ]
          },
          "metadata": {},
          "output_type": "display_data"
        }
      ],
      "source": [
        "fig, axs = plt.subplots(figsize=(12, 4))\n",
        "airline_avg_delay_per_month.unstack(level='AIRLINE').plot(ax=axs).legend(loc='right')\n",
        "axs.set_ylabel('AVG TOT DELAY (MIN)')\n",
        "axs.set_title('2015 AIRLINE PERFORMANCE BY MONTH')\n",
        "fig.savefig('images/flights/airline_delay_performance_by_month.png')"
      ]
    },
    {
      "cell_type": "markdown",
      "metadata": {
        "id": "XEwBwC6OlxDn"
      },
      "source": [
        "* Yes, airline performance displays seasonal variation with longer delays likely during peak demand periods (e.g. President's Day, Summer Holiday(s), Christmas, etc.)\n",
        "* There is also variability in airline performance. For example, Frontier experienced the longest delays in February, Spirit in June, but Jet Blue in December"
      ]
    },
    {
      "cell_type": "markdown",
      "metadata": {
        "id": "PzWdQnPmlxDn"
      },
      "source": [
        "## Do certain routes commonly end up delayed or canceled across all airlines?"
      ]
    },
    {
      "cell_type": "code",
      "execution_count": null,
      "metadata": {
        "id": "KD6HI8yBlxDn"
      },
      "outputs": [],
      "source": [
        "df_performance['O&D'] = df_performance['ORIGIN_AIRPORT'] + '-' + df_performance['DESTINATION_AIRPORT']"
      ]
    },
    {
      "cell_type": "code",
      "execution_count": null,
      "metadata": {
        "id": "7tc0RReplxDo",
        "outputId": "e48c1b97-3f2b-4163-a3f9-233b95b6af89"
      },
      "outputs": [
        {
          "data": {
            "text/html": [
              "<div>\n",
              "<style scoped>\n",
              "    .dataframe tbody tr th:only-of-type {\n",
              "        vertical-align: middle;\n",
              "    }\n",
              "\n",
              "    .dataframe tbody tr th {\n",
              "        vertical-align: top;\n",
              "    }\n",
              "\n",
              "    .dataframe thead th {\n",
              "        text-align: right;\n",
              "    }\n",
              "</style>\n",
              "<table border=\"1\" class=\"dataframe\">\n",
              "  <thead>\n",
              "    <tr style=\"text-align: right;\">\n",
              "      <th></th>\n",
              "      <th>DATE</th>\n",
              "      <th>AIRLINE</th>\n",
              "      <th>DEPARTURE_DELAY</th>\n",
              "      <th>ARRIVAL_DELAY</th>\n",
              "      <th>TOTAL_DELAY</th>\n",
              "      <th>ORIGIN_AIRPORT</th>\n",
              "      <th>DESTINATION_AIRPORT</th>\n",
              "      <th>CANCELLED</th>\n",
              "      <th>O&amp;D</th>\n",
              "    </tr>\n",
              "  </thead>\n",
              "  <tbody>\n",
              "    <tr>\n",
              "      <th>0</th>\n",
              "      <td>2015-01-01</td>\n",
              "      <td>AS</td>\n",
              "      <td>-11.0</td>\n",
              "      <td>-22.0</td>\n",
              "      <td>-33.0</td>\n",
              "      <td>ANC</td>\n",
              "      <td>SEA</td>\n",
              "      <td>0</td>\n",
              "      <td>ANC-SEA</td>\n",
              "    </tr>\n",
              "    <tr>\n",
              "      <th>1</th>\n",
              "      <td>2015-01-01</td>\n",
              "      <td>AA</td>\n",
              "      <td>-8.0</td>\n",
              "      <td>-9.0</td>\n",
              "      <td>-17.0</td>\n",
              "      <td>LAX</td>\n",
              "      <td>PBI</td>\n",
              "      <td>0</td>\n",
              "      <td>LAX-PBI</td>\n",
              "    </tr>\n",
              "    <tr>\n",
              "      <th>2</th>\n",
              "      <td>2015-01-01</td>\n",
              "      <td>US</td>\n",
              "      <td>-2.0</td>\n",
              "      <td>5.0</td>\n",
              "      <td>3.0</td>\n",
              "      <td>SFO</td>\n",
              "      <td>CLT</td>\n",
              "      <td>0</td>\n",
              "      <td>SFO-CLT</td>\n",
              "    </tr>\n",
              "    <tr>\n",
              "      <th>3</th>\n",
              "      <td>2015-01-01</td>\n",
              "      <td>AA</td>\n",
              "      <td>-5.0</td>\n",
              "      <td>-9.0</td>\n",
              "      <td>-14.0</td>\n",
              "      <td>LAX</td>\n",
              "      <td>MIA</td>\n",
              "      <td>0</td>\n",
              "      <td>LAX-MIA</td>\n",
              "    </tr>\n",
              "    <tr>\n",
              "      <th>4</th>\n",
              "      <td>2015-01-01</td>\n",
              "      <td>AS</td>\n",
              "      <td>-1.0</td>\n",
              "      <td>-21.0</td>\n",
              "      <td>-22.0</td>\n",
              "      <td>SEA</td>\n",
              "      <td>ANC</td>\n",
              "      <td>0</td>\n",
              "      <td>SEA-ANC</td>\n",
              "    </tr>\n",
              "  </tbody>\n",
              "</table>\n",
              "</div>"
            ],
            "text/plain": [
              "        DATE AIRLINE  DEPARTURE_DELAY  ARRIVAL_DELAY  TOTAL_DELAY  \\\n",
              "0 2015-01-01      AS            -11.0          -22.0        -33.0   \n",
              "1 2015-01-01      AA             -8.0           -9.0        -17.0   \n",
              "2 2015-01-01      US             -2.0            5.0          3.0   \n",
              "3 2015-01-01      AA             -5.0           -9.0        -14.0   \n",
              "4 2015-01-01      AS             -1.0          -21.0        -22.0   \n",
              "\n",
              "  ORIGIN_AIRPORT DESTINATION_AIRPORT  CANCELLED      O&D  \n",
              "0            ANC                 SEA          0  ANC-SEA  \n",
              "1            LAX                 PBI          0  LAX-PBI  \n",
              "2            SFO                 CLT          0  SFO-CLT  \n",
              "3            LAX                 MIA          0  LAX-MIA  \n",
              "4            SEA                 ANC          0  SEA-ANC  "
            ]
          },
          "execution_count": 21,
          "metadata": {},
          "output_type": "execute_result"
        }
      ],
      "source": [
        "df_performance.head()"
      ]
    },
    {
      "cell_type": "code",
      "execution_count": null,
      "metadata": {
        "id": "PYRY8flWlxDo",
        "outputId": "8d99e7fc-f3a7-4d7d-ba1f-52c3be42ff9e"
      },
      "outputs": [
        {
          "data": {
            "text/html": [
              "<div>\n",
              "<style scoped>\n",
              "    .dataframe tbody tr th:only-of-type {\n",
              "        vertical-align: middle;\n",
              "    }\n",
              "\n",
              "    .dataframe tbody tr th {\n",
              "        vertical-align: top;\n",
              "    }\n",
              "\n",
              "    .dataframe thead th {\n",
              "        text-align: right;\n",
              "    }\n",
              "</style>\n",
              "<table border=\"1\" class=\"dataframe\">\n",
              "  <thead>\n",
              "    <tr style=\"text-align: right;\">\n",
              "      <th></th>\n",
              "      <th>DATE</th>\n",
              "      <th>AIRLINE</th>\n",
              "      <th>DEPARTURE_DELAY</th>\n",
              "      <th>ARRIVAL_DELAY</th>\n",
              "      <th>TOTAL_DELAY</th>\n",
              "      <th>ORIGIN_AIRPORT</th>\n",
              "      <th>DESTINATION_AIRPORT</th>\n",
              "      <th>CANCELLED</th>\n",
              "      <th>O&amp;D</th>\n",
              "    </tr>\n",
              "  </thead>\n",
              "  <tbody>\n",
              "    <tr>\n",
              "      <th>4409221</th>\n",
              "      <td>2015-10-02</td>\n",
              "      <td>EV</td>\n",
              "      <td>-3.0</td>\n",
              "      <td>-3.0</td>\n",
              "      <td>-6.0</td>\n",
              "      <td>10135</td>\n",
              "      <td>10397</td>\n",
              "      <td>0</td>\n",
              "      <td>10135-10397</td>\n",
              "    </tr>\n",
              "    <tr>\n",
              "      <th>4849872</th>\n",
              "      <td>2015-10-30</td>\n",
              "      <td>EV</td>\n",
              "      <td>-8.0</td>\n",
              "      <td>-26.0</td>\n",
              "      <td>-34.0</td>\n",
              "      <td>10135</td>\n",
              "      <td>10397</td>\n",
              "      <td>0</td>\n",
              "      <td>10135-10397</td>\n",
              "    </tr>\n",
              "    <tr>\n",
              "      <th>4565290</th>\n",
              "      <td>2015-10-12</td>\n",
              "      <td>EV</td>\n",
              "      <td>-2.0</td>\n",
              "      <td>0.0</td>\n",
              "      <td>-2.0</td>\n",
              "      <td>10135</td>\n",
              "      <td>10397</td>\n",
              "      <td>0</td>\n",
              "      <td>10135-10397</td>\n",
              "    </tr>\n",
              "    <tr>\n",
              "      <th>4806789</th>\n",
              "      <td>2015-10-27</td>\n",
              "      <td>EV</td>\n",
              "      <td>-4.0</td>\n",
              "      <td>4.0</td>\n",
              "      <td>0.0</td>\n",
              "      <td>10135</td>\n",
              "      <td>10397</td>\n",
              "      <td>0</td>\n",
              "      <td>10135-10397</td>\n",
              "    </tr>\n",
              "    <tr>\n",
              "      <th>4653735</th>\n",
              "      <td>2015-10-18</td>\n",
              "      <td>DL</td>\n",
              "      <td>-5.0</td>\n",
              "      <td>-12.0</td>\n",
              "      <td>-17.0</td>\n",
              "      <td>10135</td>\n",
              "      <td>10397</td>\n",
              "      <td>0</td>\n",
              "      <td>10135-10397</td>\n",
              "    </tr>\n",
              "    <tr>\n",
              "      <th>...</th>\n",
              "      <td>...</td>\n",
              "      <td>...</td>\n",
              "      <td>...</td>\n",
              "      <td>...</td>\n",
              "      <td>...</td>\n",
              "      <td>...</td>\n",
              "      <td>...</td>\n",
              "      <td>...</td>\n",
              "      <td>...</td>\n",
              "    </tr>\n",
              "    <tr>\n",
              "      <th>5696500</th>\n",
              "      <td>2015-12-23</td>\n",
              "      <td>OO</td>\n",
              "      <td>51.0</td>\n",
              "      <td>57.0</td>\n",
              "      <td>108.0</td>\n",
              "      <td>YUM</td>\n",
              "      <td>PHX</td>\n",
              "      <td>0</td>\n",
              "      <td>YUM-PHX</td>\n",
              "    </tr>\n",
              "    <tr>\n",
              "      <th>4382266</th>\n",
              "      <td>2015-09-30</td>\n",
              "      <td>OO</td>\n",
              "      <td>-14.0</td>\n",
              "      <td>-22.0</td>\n",
              "      <td>-36.0</td>\n",
              "      <td>YUM</td>\n",
              "      <td>PHX</td>\n",
              "      <td>0</td>\n",
              "      <td>YUM-PHX</td>\n",
              "    </tr>\n",
              "    <tr>\n",
              "      <th>5613888</th>\n",
              "      <td>2015-12-18</td>\n",
              "      <td>OO</td>\n",
              "      <td>-11.0</td>\n",
              "      <td>-15.0</td>\n",
              "      <td>-26.0</td>\n",
              "      <td>YUM</td>\n",
              "      <td>PHX</td>\n",
              "      <td>0</td>\n",
              "      <td>YUM-PHX</td>\n",
              "    </tr>\n",
              "    <tr>\n",
              "      <th>98634</th>\n",
              "      <td>2015-01-07</td>\n",
              "      <td>OO</td>\n",
              "      <td>-4.0</td>\n",
              "      <td>-5.0</td>\n",
              "      <td>-9.0</td>\n",
              "      <td>YUM</td>\n",
              "      <td>PHX</td>\n",
              "      <td>0</td>\n",
              "      <td>YUM-PHX</td>\n",
              "    </tr>\n",
              "    <tr>\n",
              "      <th>4048411</th>\n",
              "      <td>2015-09-09</td>\n",
              "      <td>OO</td>\n",
              "      <td>-7.0</td>\n",
              "      <td>5.0</td>\n",
              "      <td>-2.0</td>\n",
              "      <td>YUM</td>\n",
              "      <td>PHX</td>\n",
              "      <td>0</td>\n",
              "      <td>YUM-PHX</td>\n",
              "    </tr>\n",
              "  </tbody>\n",
              "</table>\n",
              "<p>5714008 rows × 9 columns</p>\n",
              "</div>"
            ],
            "text/plain": [
              "              DATE AIRLINE  DEPARTURE_DELAY  ARRIVAL_DELAY  TOTAL_DELAY  \\\n",
              "4409221 2015-10-02      EV             -3.0           -3.0         -6.0   \n",
              "4849872 2015-10-30      EV             -8.0          -26.0        -34.0   \n",
              "4565290 2015-10-12      EV             -2.0            0.0         -2.0   \n",
              "4806789 2015-10-27      EV             -4.0            4.0          0.0   \n",
              "4653735 2015-10-18      DL             -5.0          -12.0        -17.0   \n",
              "...            ...     ...              ...            ...          ...   \n",
              "5696500 2015-12-23      OO             51.0           57.0        108.0   \n",
              "4382266 2015-09-30      OO            -14.0          -22.0        -36.0   \n",
              "5613888 2015-12-18      OO            -11.0          -15.0        -26.0   \n",
              "98634   2015-01-07      OO             -4.0           -5.0         -9.0   \n",
              "4048411 2015-09-09      OO             -7.0            5.0         -2.0   \n",
              "\n",
              "        ORIGIN_AIRPORT DESTINATION_AIRPORT  CANCELLED          O&D  \n",
              "4409221          10135               10397          0  10135-10397  \n",
              "4849872          10135               10397          0  10135-10397  \n",
              "4565290          10135               10397          0  10135-10397  \n",
              "4806789          10135               10397          0  10135-10397  \n",
              "4653735          10135               10397          0  10135-10397  \n",
              "...                ...                 ...        ...          ...  \n",
              "5696500            YUM                 PHX          0      YUM-PHX  \n",
              "4382266            YUM                 PHX          0      YUM-PHX  \n",
              "5613888            YUM                 PHX          0      YUM-PHX  \n",
              "98634              YUM                 PHX          0      YUM-PHX  \n",
              "4048411            YUM                 PHX          0      YUM-PHX  \n",
              "\n",
              "[5714008 rows x 9 columns]"
            ]
          },
          "execution_count": 22,
          "metadata": {},
          "output_type": "execute_result"
        }
      ],
      "source": [
        "df_performance.sort_values('O&D')"
      ]
    },
    {
      "cell_type": "markdown",
      "metadata": {
        "id": "YAs8iupylxDo"
      },
      "source": [
        "* There exist rows where origin and destination are a number\n",
        "* Remove for subsequent analysis"
      ]
    },
    {
      "cell_type": "code",
      "execution_count": null,
      "metadata": {
        "id": "B07d8uX_lxDp"
      },
      "outputs": [],
      "source": [
        "df_od = df_performance[df_performance['ORIGIN_AIRPORT'].str.isalpha()]  # Remove rows where origin is number\n",
        "df_od = df_performance[df_performance['DESTINATION_AIRPORT'].str.isalpha()]  # Remove rows where destination is number"
      ]
    },
    {
      "cell_type": "code",
      "execution_count": null,
      "metadata": {
        "id": "_w0R0r3XlxDp"
      },
      "outputs": [],
      "source": [
        "od_performance_delay = df_od[['O&D', 'TOTAL_DELAY']].groupby('O&D').mean().sort_values('TOTAL_DELAY', ascending=False).round(0)"
      ]
    },
    {
      "cell_type": "code",
      "execution_count": null,
      "metadata": {
        "id": "myXZpNJRlxDp"
      },
      "outputs": [],
      "source": [
        "od_performance_delay['COUNT'] = df_od.groupby('O&D')['O&D'].count()"
      ]
    },
    {
      "cell_type": "code",
      "execution_count": null,
      "metadata": {
        "id": "ExgMugX5lxDp"
      },
      "outputs": [],
      "source": [
        "od_performance_delay['AVG_DELAY_MIN'] = (od_performance_delay['TOTAL_DELAY'] / od_performance_delay['COUNT']).round(2)"
      ]
    },
    {
      "cell_type": "code",
      "execution_count": null,
      "metadata": {
        "id": "Oo8xhdzLlxDq",
        "outputId": "bad8dafc-57f5-484e-f3a6-da1cb6668723"
      },
      "outputs": [
        {
          "data": {
            "text/html": [
              "<div>\n",
              "<style scoped>\n",
              "    .dataframe tbody tr th:only-of-type {\n",
              "        vertical-align: middle;\n",
              "    }\n",
              "\n",
              "    .dataframe tbody tr th {\n",
              "        vertical-align: top;\n",
              "    }\n",
              "\n",
              "    .dataframe thead th {\n",
              "        text-align: right;\n",
              "    }\n",
              "</style>\n",
              "<table border=\"1\" class=\"dataframe\">\n",
              "  <thead>\n",
              "    <tr style=\"text-align: right;\">\n",
              "      <th></th>\n",
              "      <th>TOTAL_DELAY</th>\n",
              "      <th>COUNT</th>\n",
              "      <th>AVG_DELAY_MIN</th>\n",
              "    </tr>\n",
              "    <tr>\n",
              "      <th>O&amp;D</th>\n",
              "      <th></th>\n",
              "      <th></th>\n",
              "      <th></th>\n",
              "    </tr>\n",
              "  </thead>\n",
              "  <tbody>\n",
              "    <tr>\n",
              "      <th>LGA-LIT</th>\n",
              "      <td>104.0</td>\n",
              "      <td>68</td>\n",
              "      <td>1.53</td>\n",
              "    </tr>\n",
              "    <tr>\n",
              "      <th>FAI-ORD</th>\n",
              "      <td>101.0</td>\n",
              "      <td>73</td>\n",
              "      <td>1.38</td>\n",
              "    </tr>\n",
              "    <tr>\n",
              "      <th>JFK-EGE</th>\n",
              "      <td>84.0</td>\n",
              "      <td>105</td>\n",
              "      <td>0.80</td>\n",
              "    </tr>\n",
              "    <tr>\n",
              "      <th>ASE-DFW</th>\n",
              "      <td>80.0</td>\n",
              "      <td>262</td>\n",
              "      <td>0.31</td>\n",
              "    </tr>\n",
              "    <tr>\n",
              "      <th>TYS-LGA</th>\n",
              "      <td>79.0</td>\n",
              "      <td>61</td>\n",
              "      <td>1.30</td>\n",
              "    </tr>\n",
              "  </tbody>\n",
              "</table>\n",
              "</div>"
            ],
            "text/plain": [
              "         TOTAL_DELAY  COUNT  AVG_DELAY_MIN\n",
              "O&D                                       \n",
              "LGA-LIT        104.0     68           1.53\n",
              "FAI-ORD        101.0     73           1.38\n",
              "JFK-EGE         84.0    105           0.80\n",
              "ASE-DFW         80.0    262           0.31\n",
              "TYS-LGA         79.0     61           1.30"
            ]
          },
          "execution_count": 27,
          "metadata": {},
          "output_type": "execute_result"
        }
      ],
      "source": [
        "od_performance_delay[od_performance_delay['COUNT'] > 50].head()"
      ]
    },
    {
      "cell_type": "markdown",
      "metadata": {
        "id": "gjG1HTpflxDq"
      },
      "source": [
        "* Top 5 delayed O&Ds (minimum of 50 flights)\n",
        "* Prevalance of O&Ds with travel between small/large airports\n",
        "* Significant smaller delays than that for airlines\n",
        "* Suggests airlines are problem not departing/receiving airports"
      ]
    },
    {
      "cell_type": "code",
      "execution_count": null,
      "metadata": {
        "id": "ov8uq5kClxDq"
      },
      "outputs": [],
      "source": [
        "df_cancelled = df.copy()  # Cancelled flights do not have a delay (previously dropped), so need to grab from original dataset"
      ]
    },
    {
      "cell_type": "code",
      "execution_count": null,
      "metadata": {
        "id": "ttWogHTUlxDq"
      },
      "outputs": [],
      "source": [
        "df_cancelled['O&D'] = df_cancelled['ORIGIN_AIRPORT'] + '-' + df_cancelled['DESTINATION_AIRPORT']  # Re-add O&D destination"
      ]
    },
    {
      "cell_type": "code",
      "execution_count": null,
      "metadata": {
        "id": "YaB_LU_nlxDr"
      },
      "outputs": [],
      "source": [
        "od_performance_cancelled = df_cancelled[['O&D', 'CANCELLED']].groupby('O&D').sum().sort_values('CANCELLED', ascending=False)"
      ]
    },
    {
      "cell_type": "code",
      "execution_count": null,
      "metadata": {
        "id": "62z4pO1XlxDr",
        "outputId": "d52f9f4f-55e6-4e21-ccf2-19f03a41876e"
      },
      "outputs": [
        {
          "data": {
            "text/html": [
              "<div>\n",
              "<style scoped>\n",
              "    .dataframe tbody tr th:only-of-type {\n",
              "        vertical-align: middle;\n",
              "    }\n",
              "\n",
              "    .dataframe tbody tr th {\n",
              "        vertical-align: top;\n",
              "    }\n",
              "\n",
              "    .dataframe thead th {\n",
              "        text-align: right;\n",
              "    }\n",
              "</style>\n",
              "<table border=\"1\" class=\"dataframe\">\n",
              "  <thead>\n",
              "    <tr style=\"text-align: right;\">\n",
              "      <th></th>\n",
              "      <th>CANCELLED</th>\n",
              "    </tr>\n",
              "    <tr>\n",
              "      <th>O&amp;D</th>\n",
              "      <th></th>\n",
              "    </tr>\n",
              "  </thead>\n",
              "  <tbody>\n",
              "    <tr>\n",
              "      <th>BOS-LGA</th>\n",
              "      <td>443</td>\n",
              "    </tr>\n",
              "    <tr>\n",
              "      <th>LGA-BOS</th>\n",
              "      <td>441</td>\n",
              "    </tr>\n",
              "    <tr>\n",
              "      <th>LGA-ORD</th>\n",
              "      <td>435</td>\n",
              "    </tr>\n",
              "    <tr>\n",
              "      <th>ORD-LGA</th>\n",
              "      <td>408</td>\n",
              "    </tr>\n",
              "    <tr>\n",
              "      <th>LAX-SFO</th>\n",
              "      <td>342</td>\n",
              "    </tr>\n",
              "  </tbody>\n",
              "</table>\n",
              "</div>"
            ],
            "text/plain": [
              "         CANCELLED\n",
              "O&D               \n",
              "BOS-LGA        443\n",
              "LGA-BOS        441\n",
              "LGA-ORD        435\n",
              "ORD-LGA        408\n",
              "LAX-SFO        342"
            ]
          },
          "execution_count": 31,
          "metadata": {},
          "output_type": "execute_result"
        }
      ],
      "source": [
        "od_performance_cancelled.head()"
      ]
    },
    {
      "cell_type": "markdown",
      "metadata": {
        "id": "U9hk2Jq_lxDr"
      },
      "source": [
        "* Top 5 cancelled O&Ds\n",
        "* LGA, BOS, and ORD worst performers\n",
        "* All major aiprots\n",
        "* LGA also suffers major delays (see above)"
      ]
    },
    {
      "cell_type": "markdown",
      "metadata": {
        "id": "AyoJvf4jlxDr"
      },
      "source": [
        "## Create a forecast for the count of cancellations on United Airlines flights with destinations in the state of California in the month of December"
      ]
    },
    {
      "cell_type": "code",
      "execution_count": null,
      "metadata": {
        "id": "oHvb2bKelxDs"
      },
      "outputs": [],
      "source": [
        "# Copy initial data with required columns\n",
        "df_timeseries = df[['YEAR', 'MONTH', 'DAY', 'CANCELLED', 'DESTINATION_AIRPORT', 'AIRLINE']].copy()"
      ]
    },
    {
      "cell_type": "code",
      "execution_count": null,
      "metadata": {
        "id": "Gi9vPSa1lxDs"
      },
      "outputs": [],
      "source": [
        "# Convert `YEAR`, `MONTH`, `DAY` to `datetime`\n",
        "df_timeseries['DATE'] = pd.to_datetime(df_timeseries[['YEAR', 'MONTH', 'DAY']])"
      ]
    },
    {
      "cell_type": "code",
      "execution_count": null,
      "metadata": {
        "id": "YT998fqLlxDs"
      },
      "outputs": [],
      "source": [
        "# Read in airports data\n",
        "airports = pd.read_csv('datasets/flights/airports.csv')"
      ]
    },
    {
      "cell_type": "code",
      "execution_count": null,
      "metadata": {
        "id": "GY3gg2lblxDs",
        "outputId": "a2798238-03fd-4f22-c212-a1d29505b134"
      },
      "outputs": [
        {
          "data": {
            "text/html": [
              "<div>\n",
              "<style scoped>\n",
              "    .dataframe tbody tr th:only-of-type {\n",
              "        vertical-align: middle;\n",
              "    }\n",
              "\n",
              "    .dataframe tbody tr th {\n",
              "        vertical-align: top;\n",
              "    }\n",
              "\n",
              "    .dataframe thead th {\n",
              "        text-align: right;\n",
              "    }\n",
              "</style>\n",
              "<table border=\"1\" class=\"dataframe\">\n",
              "  <thead>\n",
              "    <tr style=\"text-align: right;\">\n",
              "      <th></th>\n",
              "      <th>IATA_CODE</th>\n",
              "      <th>AIRPORT</th>\n",
              "      <th>CITY</th>\n",
              "      <th>STATE</th>\n",
              "      <th>COUNTRY</th>\n",
              "      <th>LATITUDE</th>\n",
              "      <th>LONGITUDE</th>\n",
              "    </tr>\n",
              "  </thead>\n",
              "  <tbody>\n",
              "    <tr>\n",
              "      <th>0</th>\n",
              "      <td>ABE</td>\n",
              "      <td>Lehigh Valley International Airport</td>\n",
              "      <td>Allentown</td>\n",
              "      <td>PA</td>\n",
              "      <td>USA</td>\n",
              "      <td>40.65236</td>\n",
              "      <td>-75.44040</td>\n",
              "    </tr>\n",
              "    <tr>\n",
              "      <th>1</th>\n",
              "      <td>ABI</td>\n",
              "      <td>Abilene Regional Airport</td>\n",
              "      <td>Abilene</td>\n",
              "      <td>TX</td>\n",
              "      <td>USA</td>\n",
              "      <td>32.41132</td>\n",
              "      <td>-99.68190</td>\n",
              "    </tr>\n",
              "    <tr>\n",
              "      <th>2</th>\n",
              "      <td>ABQ</td>\n",
              "      <td>Albuquerque International Sunport</td>\n",
              "      <td>Albuquerque</td>\n",
              "      <td>NM</td>\n",
              "      <td>USA</td>\n",
              "      <td>35.04022</td>\n",
              "      <td>-106.60919</td>\n",
              "    </tr>\n",
              "    <tr>\n",
              "      <th>3</th>\n",
              "      <td>ABR</td>\n",
              "      <td>Aberdeen Regional Airport</td>\n",
              "      <td>Aberdeen</td>\n",
              "      <td>SD</td>\n",
              "      <td>USA</td>\n",
              "      <td>45.44906</td>\n",
              "      <td>-98.42183</td>\n",
              "    </tr>\n",
              "    <tr>\n",
              "      <th>4</th>\n",
              "      <td>ABY</td>\n",
              "      <td>Southwest Georgia Regional Airport</td>\n",
              "      <td>Albany</td>\n",
              "      <td>GA</td>\n",
              "      <td>USA</td>\n",
              "      <td>31.53552</td>\n",
              "      <td>-84.19447</td>\n",
              "    </tr>\n",
              "  </tbody>\n",
              "</table>\n",
              "</div>"
            ],
            "text/plain": [
              "  IATA_CODE                              AIRPORT         CITY STATE COUNTRY  \\\n",
              "0       ABE  Lehigh Valley International Airport    Allentown    PA     USA   \n",
              "1       ABI             Abilene Regional Airport      Abilene    TX     USA   \n",
              "2       ABQ    Albuquerque International Sunport  Albuquerque    NM     USA   \n",
              "3       ABR            Aberdeen Regional Airport     Aberdeen    SD     USA   \n",
              "4       ABY   Southwest Georgia Regional Airport       Albany    GA     USA   \n",
              "\n",
              "   LATITUDE  LONGITUDE  \n",
              "0  40.65236  -75.44040  \n",
              "1  32.41132  -99.68190  \n",
              "2  35.04022 -106.60919  \n",
              "3  45.44906  -98.42183  \n",
              "4  31.53552  -84.19447  "
            ]
          },
          "execution_count": 35,
          "metadata": {},
          "output_type": "execute_result"
        }
      ],
      "source": [
        "airports.head()"
      ]
    },
    {
      "cell_type": "code",
      "execution_count": null,
      "metadata": {
        "id": "0m-CGQf5lxDt"
      },
      "outputs": [],
      "source": [
        "df_timeseries = pd.merge(df_timeseries, airports, how='left', left_on='DESTINATION_AIRPORT', right_on='IATA_CODE')"
      ]
    },
    {
      "cell_type": "code",
      "execution_count": null,
      "metadata": {
        "id": "hUIu0WoWlxDt"
      },
      "outputs": [],
      "source": [
        "# Filter only UA flights\n",
        "df_timeseries = df_timeseries[df_timeseries['AIRLINE'] == 'UA']"
      ]
    },
    {
      "cell_type": "code",
      "execution_count": null,
      "metadata": {
        "id": "I6CpKKC5lxDu"
      },
      "outputs": [],
      "source": [
        "# Filter only CA destinations\n",
        "df_timeseries = df_timeseries[df_timeseries['STATE'] == 'CA']"
      ]
    },
    {
      "cell_type": "code",
      "execution_count": null,
      "metadata": {
        "id": "HhY3XIZnlxDu",
        "outputId": "1153f629-ed5d-4a5c-f998-3f68f550dd59"
      },
      "outputs": [
        {
          "data": {
            "text/plain": [
              "array([ 1,  2,  3,  4,  5,  6,  7,  8,  9, 11, 12], dtype=int64)"
            ]
          },
          "execution_count": 39,
          "metadata": {},
          "output_type": "execute_result"
        }
      ],
      "source": [
        "df_timeseries.DATE.dt.month.unique()  # No Oct flights in CA"
      ]
    },
    {
      "cell_type": "code",
      "execution_count": null,
      "metadata": {
        "id": "pluXdSFflxDv"
      },
      "outputs": [],
      "source": [
        "# Subset required columns\n",
        "df_timeseries = df_timeseries[['DATE', 'CANCELLED']]"
      ]
    },
    {
      "cell_type": "code",
      "execution_count": null,
      "metadata": {
        "id": "DqtkmeC1lxDw"
      },
      "outputs": [],
      "source": [
        "# Groupby `DATE` (multiple flights on same day)\n",
        "df_timeseries = df_timeseries.groupby('DATE').sum('CANCELLED')"
      ]
    },
    {
      "cell_type": "code",
      "execution_count": null,
      "metadata": {
        "id": "QJO3bLCblxDx",
        "outputId": "4831a796-72c5-4e6b-a636-6d09d6818fae"
      },
      "outputs": [
        {
          "data": {
            "text/html": [
              "<div>\n",
              "<style scoped>\n",
              "    .dataframe tbody tr th:only-of-type {\n",
              "        vertical-align: middle;\n",
              "    }\n",
              "\n",
              "    .dataframe tbody tr th {\n",
              "        vertical-align: top;\n",
              "    }\n",
              "\n",
              "    .dataframe thead th {\n",
              "        text-align: right;\n",
              "    }\n",
              "</style>\n",
              "<table border=\"1\" class=\"dataframe\">\n",
              "  <thead>\n",
              "    <tr style=\"text-align: right;\">\n",
              "      <th></th>\n",
              "      <th>CANCELLED</th>\n",
              "    </tr>\n",
              "    <tr>\n",
              "      <th>DATE</th>\n",
              "      <th></th>\n",
              "    </tr>\n",
              "  </thead>\n",
              "  <tbody>\n",
              "    <tr>\n",
              "      <th>2015-01-01</th>\n",
              "      <td>2</td>\n",
              "    </tr>\n",
              "    <tr>\n",
              "      <th>2015-01-02</th>\n",
              "      <td>0</td>\n",
              "    </tr>\n",
              "    <tr>\n",
              "      <th>2015-01-03</th>\n",
              "      <td>1</td>\n",
              "    </tr>\n",
              "    <tr>\n",
              "      <th>2015-01-04</th>\n",
              "      <td>2</td>\n",
              "    </tr>\n",
              "    <tr>\n",
              "      <th>2015-01-05</th>\n",
              "      <td>2</td>\n",
              "    </tr>\n",
              "    <tr>\n",
              "      <th>...</th>\n",
              "      <td>...</td>\n",
              "    </tr>\n",
              "    <tr>\n",
              "      <th>2015-12-27</th>\n",
              "      <td>11</td>\n",
              "    </tr>\n",
              "    <tr>\n",
              "      <th>2015-12-28</th>\n",
              "      <td>44</td>\n",
              "    </tr>\n",
              "    <tr>\n",
              "      <th>2015-12-29</th>\n",
              "      <td>16</td>\n",
              "    </tr>\n",
              "    <tr>\n",
              "      <th>2015-12-30</th>\n",
              "      <td>18</td>\n",
              "    </tr>\n",
              "    <tr>\n",
              "      <th>2015-12-31</th>\n",
              "      <td>4</td>\n",
              "    </tr>\n",
              "  </tbody>\n",
              "</table>\n",
              "<p>334 rows × 1 columns</p>\n",
              "</div>"
            ],
            "text/plain": [
              "            CANCELLED\n",
              "DATE                 \n",
              "2015-01-01          2\n",
              "2015-01-02          0\n",
              "2015-01-03          1\n",
              "2015-01-04          2\n",
              "2015-01-05          2\n",
              "...               ...\n",
              "2015-12-27         11\n",
              "2015-12-28         44\n",
              "2015-12-29         16\n",
              "2015-12-30         18\n",
              "2015-12-31          4\n",
              "\n",
              "[334 rows x 1 columns]"
            ]
          },
          "execution_count": 42,
          "metadata": {},
          "output_type": "execute_result"
        }
      ],
      "source": [
        "# Inspect data\n",
        "df_timeseries"
      ]
    },
    {
      "cell_type": "code",
      "execution_count": null,
      "metadata": {
        "id": "cJzEOWRulxDz"
      },
      "outputs": [],
      "source": [
        "# Subset Jan-Nov for train set\n",
        "train = df_timeseries['2015-01-01':'2015-11-30']"
      ]
    },
    {
      "cell_type": "code",
      "execution_count": null,
      "metadata": {
        "id": "Tda1WWJrlxDz"
      },
      "outputs": [],
      "source": [
        "# Subest Dec for test set\n",
        "test = df_timeseries['2015-12-01':'2015-12-31']"
      ]
    },
    {
      "cell_type": "code",
      "execution_count": null,
      "metadata": {
        "id": "eTexwtoMlxDz",
        "outputId": "01a7cdc7-735e-4894-8704-aab00a31c358"
      },
      "outputs": [
        {
          "data": {
            "text/html": [
              "<div>\n",
              "<style scoped>\n",
              "    .dataframe tbody tr th:only-of-type {\n",
              "        vertical-align: middle;\n",
              "    }\n",
              "\n",
              "    .dataframe tbody tr th {\n",
              "        vertical-align: top;\n",
              "    }\n",
              "\n",
              "    .dataframe thead th {\n",
              "        text-align: right;\n",
              "    }\n",
              "</style>\n",
              "<table border=\"1\" class=\"dataframe\">\n",
              "  <thead>\n",
              "    <tr style=\"text-align: right;\">\n",
              "      <th></th>\n",
              "      <th>CANCELLED</th>\n",
              "    </tr>\n",
              "    <tr>\n",
              "      <th>DATE</th>\n",
              "      <th></th>\n",
              "    </tr>\n",
              "  </thead>\n",
              "  <tbody>\n",
              "    <tr>\n",
              "      <th>2015-01-01</th>\n",
              "      <td>2</td>\n",
              "    </tr>\n",
              "    <tr>\n",
              "      <th>2015-01-02</th>\n",
              "      <td>0</td>\n",
              "    </tr>\n",
              "    <tr>\n",
              "      <th>2015-01-03</th>\n",
              "      <td>1</td>\n",
              "    </tr>\n",
              "    <tr>\n",
              "      <th>2015-01-04</th>\n",
              "      <td>2</td>\n",
              "    </tr>\n",
              "    <tr>\n",
              "      <th>2015-01-05</th>\n",
              "      <td>2</td>\n",
              "    </tr>\n",
              "    <tr>\n",
              "      <th>...</th>\n",
              "      <td>...</td>\n",
              "    </tr>\n",
              "    <tr>\n",
              "      <th>2015-11-26</th>\n",
              "      <td>0</td>\n",
              "    </tr>\n",
              "    <tr>\n",
              "      <th>2015-11-27</th>\n",
              "      <td>0</td>\n",
              "    </tr>\n",
              "    <tr>\n",
              "      <th>2015-11-28</th>\n",
              "      <td>0</td>\n",
              "    </tr>\n",
              "    <tr>\n",
              "      <th>2015-11-29</th>\n",
              "      <td>1</td>\n",
              "    </tr>\n",
              "    <tr>\n",
              "      <th>2015-11-30</th>\n",
              "      <td>2</td>\n",
              "    </tr>\n",
              "  </tbody>\n",
              "</table>\n",
              "<p>303 rows × 1 columns</p>\n",
              "</div>"
            ],
            "text/plain": [
              "            CANCELLED\n",
              "DATE                 \n",
              "2015-01-01          2\n",
              "2015-01-02          0\n",
              "2015-01-03          1\n",
              "2015-01-04          2\n",
              "2015-01-05          2\n",
              "...               ...\n",
              "2015-11-26          0\n",
              "2015-11-27          0\n",
              "2015-11-28          0\n",
              "2015-11-29          1\n",
              "2015-11-30          2\n",
              "\n",
              "[303 rows x 1 columns]"
            ]
          },
          "execution_count": 45,
          "metadata": {},
          "output_type": "execute_result"
        }
      ],
      "source": [
        "# Inspect data\n",
        "train"
      ]
    },
    {
      "cell_type": "code",
      "execution_count": null,
      "metadata": {
        "id": "CHUdn1pWlxD0",
        "outputId": "4e9bd77b-6444-44f4-cf66-7ec7f7456d8f"
      },
      "outputs": [
        {
          "data": {
            "text/html": [
              "<div>\n",
              "<style scoped>\n",
              "    .dataframe tbody tr th:only-of-type {\n",
              "        vertical-align: middle;\n",
              "    }\n",
              "\n",
              "    .dataframe tbody tr th {\n",
              "        vertical-align: top;\n",
              "    }\n",
              "\n",
              "    .dataframe thead th {\n",
              "        text-align: right;\n",
              "    }\n",
              "</style>\n",
              "<table border=\"1\" class=\"dataframe\">\n",
              "  <thead>\n",
              "    <tr style=\"text-align: right;\">\n",
              "      <th></th>\n",
              "      <th>CANCELLED</th>\n",
              "    </tr>\n",
              "    <tr>\n",
              "      <th>DATE</th>\n",
              "      <th></th>\n",
              "    </tr>\n",
              "  </thead>\n",
              "  <tbody>\n",
              "    <tr>\n",
              "      <th>2015-12-01</th>\n",
              "      <td>2</td>\n",
              "    </tr>\n",
              "    <tr>\n",
              "      <th>2015-12-02</th>\n",
              "      <td>0</td>\n",
              "    </tr>\n",
              "    <tr>\n",
              "      <th>2015-12-03</th>\n",
              "      <td>0</td>\n",
              "    </tr>\n",
              "    <tr>\n",
              "      <th>2015-12-04</th>\n",
              "      <td>0</td>\n",
              "    </tr>\n",
              "    <tr>\n",
              "      <th>2015-12-05</th>\n",
              "      <td>0</td>\n",
              "    </tr>\n",
              "    <tr>\n",
              "      <th>2015-12-06</th>\n",
              "      <td>0</td>\n",
              "    </tr>\n",
              "    <tr>\n",
              "      <th>2015-12-07</th>\n",
              "      <td>0</td>\n",
              "    </tr>\n",
              "    <tr>\n",
              "      <th>2015-12-08</th>\n",
              "      <td>0</td>\n",
              "    </tr>\n",
              "    <tr>\n",
              "      <th>2015-12-09</th>\n",
              "      <td>0</td>\n",
              "    </tr>\n",
              "    <tr>\n",
              "      <th>2015-12-10</th>\n",
              "      <td>0</td>\n",
              "    </tr>\n",
              "    <tr>\n",
              "      <th>2015-12-11</th>\n",
              "      <td>2</td>\n",
              "    </tr>\n",
              "    <tr>\n",
              "      <th>2015-12-12</th>\n",
              "      <td>0</td>\n",
              "    </tr>\n",
              "    <tr>\n",
              "      <th>2015-12-13</th>\n",
              "      <td>1</td>\n",
              "    </tr>\n",
              "    <tr>\n",
              "      <th>2015-12-14</th>\n",
              "      <td>3</td>\n",
              "    </tr>\n",
              "    <tr>\n",
              "      <th>2015-12-15</th>\n",
              "      <td>9</td>\n",
              "    </tr>\n",
              "    <tr>\n",
              "      <th>2015-12-16</th>\n",
              "      <td>0</td>\n",
              "    </tr>\n",
              "    <tr>\n",
              "      <th>2015-12-17</th>\n",
              "      <td>2</td>\n",
              "    </tr>\n",
              "    <tr>\n",
              "      <th>2015-12-18</th>\n",
              "      <td>2</td>\n",
              "    </tr>\n",
              "    <tr>\n",
              "      <th>2015-12-19</th>\n",
              "      <td>2</td>\n",
              "    </tr>\n",
              "    <tr>\n",
              "      <th>2015-12-20</th>\n",
              "      <td>4</td>\n",
              "    </tr>\n",
              "    <tr>\n",
              "      <th>2015-12-21</th>\n",
              "      <td>0</td>\n",
              "    </tr>\n",
              "    <tr>\n",
              "      <th>2015-12-22</th>\n",
              "      <td>0</td>\n",
              "    </tr>\n",
              "    <tr>\n",
              "      <th>2015-12-23</th>\n",
              "      <td>0</td>\n",
              "    </tr>\n",
              "    <tr>\n",
              "      <th>2015-12-24</th>\n",
              "      <td>1</td>\n",
              "    </tr>\n",
              "    <tr>\n",
              "      <th>2015-12-25</th>\n",
              "      <td>2</td>\n",
              "    </tr>\n",
              "    <tr>\n",
              "      <th>2015-12-26</th>\n",
              "      <td>0</td>\n",
              "    </tr>\n",
              "    <tr>\n",
              "      <th>2015-12-27</th>\n",
              "      <td>11</td>\n",
              "    </tr>\n",
              "    <tr>\n",
              "      <th>2015-12-28</th>\n",
              "      <td>44</td>\n",
              "    </tr>\n",
              "    <tr>\n",
              "      <th>2015-12-29</th>\n",
              "      <td>16</td>\n",
              "    </tr>\n",
              "    <tr>\n",
              "      <th>2015-12-30</th>\n",
              "      <td>18</td>\n",
              "    </tr>\n",
              "    <tr>\n",
              "      <th>2015-12-31</th>\n",
              "      <td>4</td>\n",
              "    </tr>\n",
              "  </tbody>\n",
              "</table>\n",
              "</div>"
            ],
            "text/plain": [
              "            CANCELLED\n",
              "DATE                 \n",
              "2015-12-01          2\n",
              "2015-12-02          0\n",
              "2015-12-03          0\n",
              "2015-12-04          0\n",
              "2015-12-05          0\n",
              "2015-12-06          0\n",
              "2015-12-07          0\n",
              "2015-12-08          0\n",
              "2015-12-09          0\n",
              "2015-12-10          0\n",
              "2015-12-11          2\n",
              "2015-12-12          0\n",
              "2015-12-13          1\n",
              "2015-12-14          3\n",
              "2015-12-15          9\n",
              "2015-12-16          0\n",
              "2015-12-17          2\n",
              "2015-12-18          2\n",
              "2015-12-19          2\n",
              "2015-12-20          4\n",
              "2015-12-21          0\n",
              "2015-12-22          0\n",
              "2015-12-23          0\n",
              "2015-12-24          1\n",
              "2015-12-25          2\n",
              "2015-12-26          0\n",
              "2015-12-27         11\n",
              "2015-12-28         44\n",
              "2015-12-29         16\n",
              "2015-12-30         18\n",
              "2015-12-31          4"
            ]
          },
          "execution_count": 46,
          "metadata": {},
          "output_type": "execute_result"
        }
      ],
      "source": [
        "# Inspect data\n",
        "test"
      ]
    },
    {
      "cell_type": "code",
      "execution_count": null,
      "metadata": {
        "id": "W3UYRHFTlxD0",
        "outputId": "01e22982-9181-488f-b2c2-3ef3ff2d88d7"
      },
      "outputs": [
        {
          "data": {
            "image/png": "[encoded data removed]",
            "text/plain": [
              "<Figure size 640x480 with 1 Axes>"
            ]
          },
          "metadata": {},
          "output_type": "display_data"
        }
      ],
      "source": [
        "train.plot();"
      ]
    },
    {
      "cell_type": "markdown",
      "metadata": {
        "id": "L689xueXlxD0"
      },
      "source": [
        "### Stationarity"
      ]
    },
    {
      "cell_type": "markdown",
      "metadata": {
        "id": "q71hADZolxD0"
      },
      "source": [
        "* ~Passes visual inspection of stationarity (constant mean and variance) with outlier occuring in Feb"
      ]
    },
    {
      "cell_type": "code",
      "execution_count": null,
      "metadata": {
        "id": "7WxFZo8dlxD1"
      },
      "outputs": [],
      "source": [
        "# Hypothesis test using Augmented Dickey-Fuller Test\n",
        "adft = adfuller(train)"
      ]
    },
    {
      "cell_type": "code",
      "execution_count": null,
      "metadata": {
        "id": "3-NTDAPxlxD1",
        "outputId": "4fb3067c-4cf4-45c8-da21-5802fae0abb4"
      },
      "outputs": [
        {
          "name": "stdout",
          "output_type": "stream",
          "text": [
            "       Values                 Metric\n",
            "0   -4.293207        Test Statistics\n",
            "1    0.000456                p-value\n",
            "2    5.000000          No. lags used\n",
            "3  297.000000  No. observations used\n",
            "4   -3.452561    Critical value (1%)\n",
            "5   -2.871321    Critical value (5%)\n",
            "6   -2.571982   Critical value (10%)\n"
          ]
        }
      ],
      "source": [
        "df_adft = pd.DataFrame({\"Values\":[\n",
        "                            adft[0],\n",
        "                            adft[1],\n",
        "                            adft[2],\n",
        "                            adft[3],\n",
        "                            adft[4]['1%'],\n",
        "                            adft[4]['5%'],\n",
        "                            adft[4]['10%']],\n",
        "                        \"Metric\":[\n",
        "                            \"Test Statistics\",\n",
        "                            \"p-value\",\n",
        "                            \"No. lags used\",\n",
        "                            \"No. observations used\",\n",
        "                            \"Critical value (1%)\",\n",
        "                            \"Critical value (5%)\",\n",
        "                            \"Critical value (10%)\"]})\n",
        "print(df_adft)"
      ]
    },
    {
      "cell_type": "markdown",
      "metadata": {
        "id": "24yt36cflxD1"
      },
      "source": [
        "* Fail to reject null hypothesis with p-val of 0.000456 which indicates stationarity"
      ]
    },
    {
      "cell_type": "markdown",
      "metadata": {
        "id": "cqEKR5u0lxD1"
      },
      "source": [
        "### Autocorrelation"
      ]
    },
    {
      "cell_type": "code",
      "execution_count": null,
      "metadata": {
        "id": "XhTu88FrlxD2",
        "outputId": "cbce0baa-73bc-42cf-861a-5f04abc910a9"
      },
      "outputs": [
        {
          "name": "stdout",
          "output_type": "stream",
          "text": [
            "One Month Lag:  0.48637968594841496\n",
            "Three Month Lag:  0.02462542808678642\n",
            "Six Month Lag:  0.2875704312751703\n"
          ]
        }
      ],
      "source": [
        "autocorrelation_lag1 = train['CANCELLED'].autocorr(lag=1)\n",
        "print(\"One Month Lag: \", autocorrelation_lag1)\n",
        "\n",
        "autocorrelation_lag3 = train['CANCELLED'].autocorr(lag=3)\n",
        "print(\"Three Month Lag: \", autocorrelation_lag3)\n",
        "\n",
        "autocorrelation_lag6 = train['CANCELLED'].autocorr(lag=6)\n",
        "print(\"Six Month Lag: \", autocorrelation_lag6)"
      ]
    },
    {
      "cell_type": "markdown",
      "metadata": {
        "id": "JfUth4A-lxD2"
      },
      "source": [
        "* Some positive correlation with one month lag"
      ]
    },
    {
      "cell_type": "markdown",
      "metadata": {
        "id": "AmJkiCF-lxD2"
      },
      "source": [
        "### Seasonality"
      ]
    },
    {
      "cell_type": "code",
      "execution_count": null,
      "metadata": {
        "id": "8Bi0uE4dlxD2",
        "outputId": "e50d5ff6-38e3-4d37-c5aa-46cae9edf6c5"
      },
      "outputs": [
        {
          "data": {
            "image/png": "[encoded data removed]",
            "text/plain": [
              "<Figure size 640x480 with 4 Axes>"
            ]
          },
          "metadata": {},
          "output_type": "display_data"
        }
      ],
      "source": [
        "decompose = seasonal_decompose(train['CANCELLED'], period=1)\n",
        "decompose.plot()\n",
        "plt.show()"
      ]
    },
    {
      "cell_type": "markdown",
      "metadata": {
        "id": "BZuuoGnylxD3"
      },
      "source": [
        "* No trend\n",
        "* No seasonal behavior"
      ]
    },
    {
      "cell_type": "markdown",
      "metadata": {
        "id": "rklGtIfRlxD3"
      },
      "source": [
        "### Forecasting"
      ]
    },
    {
      "cell_type": "code",
      "execution_count": null,
      "metadata": {
        "id": "22cOkhyHlxD4",
        "outputId": "c9e1d1aa-5f9e-449e-cbed-0de423122c4c"
      },
      "outputs": [
        {
          "name": "stderr",
          "output_type": "stream",
          "text": [
            "C:\\Users\\lee\\anaconda3\\lib\\site-packages\\statsmodels\\tsa\\base\\tsa_model.py:834: ValueWarning: No supported index is available. Prediction results will be given with an integer index beginning at `start`.\n",
            "  return get_prediction_index(\n"
          ]
        }
      ],
      "source": [
        "model = auto_arima(train)\n",
        "model.fit(train)\n",
        "predictions = model.predict(n_periods=len(test), index=test.index)\n",
        "forecast = pd.DataFrame(predictions.array, index=test.index, columns=['PREDICTION'])"
      ]
    },
    {
      "cell_type": "code",
      "execution_count": null,
      "metadata": {
        "id": "FK5sTSh8lxD5",
        "outputId": "8b7540ba-cb9b-4309-f79b-e3eaf2a294c0"
      },
      "outputs": [
        {
          "data": {
            "image/png": "[encoded data removed]",
            "text/plain": [
              "<Figure size 1200x400 with 1 Axes>"
            ]
          },
          "metadata": {},
          "output_type": "display_data"
        }
      ],
      "source": [
        "plt.figure(figsize=(12, 4))\n",
        "plt.plot(train, color='black', label='Train')\n",
        "plt.plot(test, color='red', label='Test')\n",
        "plt.plot(forecast, color='green', label='Forecast')\n",
        "plt.legend()\n",
        "plt.title('December 2015: United Airlines California Cancelled Flights Forecast')\n",
        "plt.xlabel('DATE')\n",
        "plt.ylabel('CANCELLED')\n",
        "plt.show()\n",
        "fig.savefig('images/flights/ua_dec_ca_forecast.png')"
      ]
    },
    {
      "cell_type": "code",
      "execution_count": null,
      "metadata": {
        "id": "dLHALbZrlxD6",
        "outputId": "78cc3bd0-b8c3-4079-ff63-4f700497441d"
      },
      "outputs": [
        {
          "name": "stdout",
          "output_type": "stream",
          "text": [
            "MAE:  2.11\n"
          ]
        }
      ],
      "source": [
        "mae = sqrt(mean_absolute_error(test, predictions))  # MAE rather than RMSE because of large outlier\n",
        "print(\"MAE: \", round(mae, 2))  # Cancellations"
      ]
    },
    {
      "cell_type": "markdown",
      "metadata": {
        "tags": [],
        "id": "YJlr0AZVlxD7"
      },
      "source": [
        "# Next steps"
      ]
    },
    {
      "cell_type": "markdown",
      "metadata": {
        "id": "uHJkvycelxD8"
      },
      "source": [
        "* Continue to develop time series model\n",
        "    * No Oct flights\n",
        "    * Different TSA methods\n",
        "* Machine learning approach to predict cancellations\n",
        "* Re-factor code"
      ]
    }
  ],
  "metadata": {
    "kernelspec": {
      "display_name": "Python 3 (ipykernel)",
      "language": "python",
      "name": "python3"
    },
    "language_info": {
      "codemirror_mode": {
        "name": "ipython",
        "version": 3
      },
      "file_extension": ".py",
      "mimetype": "text/x-python",
      "name": "python",
      "nbconvert_exporter": "python",
      "pygments_lexer": "ipython3",
      "version": "3.9.13"
    },
    "colab": {
      "provenance": [],
      "include_colab_link": true
    }
  },
  "nbformat": 4,
  "nbformat_minor": 0
}